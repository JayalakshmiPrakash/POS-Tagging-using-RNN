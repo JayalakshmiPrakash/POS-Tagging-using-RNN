{
 "cells": [
  {
   "cell_type": "markdown",
   "id": "f642eb1a",
   "metadata": {
    "papermill": {
     "duration": 0.020197,
     "end_time": "2023-06-21T12:26:59.890720",
     "exception": false,
     "start_time": "2023-06-21T12:26:59.870523",
     "status": "completed"
    },
    "tags": []
   },
   "source": [
    "# Enhancing Language Understanding: Unleashing the Power of RNN, LSTM, GRU, and Bidirectional RNN for POS Tagging"
   ]
  },
  {
   "cell_type": "code",
   "execution_count": 1,
   "id": "be65d524",
   "metadata": {
    "execution": {
     "iopub.execute_input": "2023-06-21T12:26:59.926955Z",
     "iopub.status.busy": "2023-06-21T12:26:59.926138Z",
     "iopub.status.idle": "2023-06-21T12:27:12.710679Z",
     "shell.execute_reply": "2023-06-21T12:27:12.709589Z"
    },
    "papermill": {
     "duration": 12.805782,
     "end_time": "2023-06-21T12:27:12.713327",
     "exception": false,
     "start_time": "2023-06-21T12:26:59.907545",
     "status": "completed"
    },
    "tags": []
   },
   "outputs": [],
   "source": [
    "import warnings\n",
    "warnings.filterwarnings(\"ignore\")\n",
    "\n",
    "import numpy as np\n",
    "\n",
    "from matplotlib import pyplot as plt\n",
    "\n",
    "from nltk.corpus import brown\n",
    "from nltk.corpus import treebank\n",
    "from nltk.corpus import conll2000\n",
    "\n",
    "import seaborn as sns\n",
    "\n",
    "from gensim.models import KeyedVectors\n",
    "\n",
    "from tensorflow.keras.preprocessing.sequence import pad_sequences\n",
    "from tensorflow.keras.utils import to_categorical\n",
    "from tensorflow.keras import Sequential, Input, Model\n",
    "from tensorflow.keras.layers import Embedding, Dense, TimeDistributed, LSTM, GRU, Bidirectional, SimpleRNN, RNN\n",
    "from tensorflow.keras.preprocessing.text import Tokenizer\n",
    "\n",
    "from sklearn.model_selection import train_test_split\n",
    "from sklearn.utils import shuffle"
   ]
  },
  {
   "cell_type": "code",
   "execution_count": 2,
   "id": "01e92a91",
   "metadata": {
    "execution": {
     "iopub.execute_input": "2023-06-21T12:27:12.749373Z",
     "iopub.status.busy": "2023-06-21T12:27:12.748524Z",
     "iopub.status.idle": "2023-06-21T12:27:12.935551Z",
     "shell.execute_reply": "2023-06-21T12:27:12.934730Z"
    },
    "papermill": {
     "duration": 0.207722,
     "end_time": "2023-06-21T12:27:12.937674",
     "exception": false,
     "start_time": "2023-06-21T12:27:12.729952",
     "status": "completed"
    },
    "tags": []
   },
   "outputs": [
    {
     "name": "stdout",
     "output_type": "stream",
     "text": [
      "[nltk_data] Downloading package treebank to /usr/share/nltk_data...\n",
      "[nltk_data]   Package treebank is already up-to-date!\n",
      "[nltk_data] Downloading package brown to /usr/share/nltk_data...\n",
      "[nltk_data]   Package brown is already up-to-date!\n",
      "[nltk_data] Downloading package conll2000 to /usr/share/nltk_data...\n",
      "[nltk_data]   Package conll2000 is already up-to-date!\n",
      "[nltk_data] Downloading package universal_tagset to\n",
      "[nltk_data]     /usr/share/nltk_data...\n",
      "[nltk_data]   Package universal_tagset is already up-to-date!\n"
     ]
    },
    {
     "data": {
      "text/plain": [
       "True"
      ]
     },
     "execution_count": 2,
     "metadata": {},
     "output_type": "execute_result"
    }
   ],
   "source": [
    "import nltk\n",
    "nltk.download('treebank')\n",
    "nltk.download('brown')\n",
    "nltk.download('conll2000')\n",
    "nltk.download('universal_tagset')\n"
   ]
  },
  {
   "cell_type": "code",
   "execution_count": 3,
   "id": "383f3fbd",
   "metadata": {
    "execution": {
     "iopub.execute_input": "2023-06-21T12:27:12.971895Z",
     "iopub.status.busy": "2023-06-21T12:27:12.971206Z",
     "iopub.status.idle": "2023-06-21T12:27:12.997448Z",
     "shell.execute_reply": "2023-06-21T12:27:12.996292Z"
    },
    "papermill": {
     "duration": 0.046125,
     "end_time": "2023-06-21T12:27:12.999934",
     "exception": false,
     "start_time": "2023-06-21T12:27:12.953809",
     "status": "completed"
    },
    "tags": []
   },
   "outputs": [],
   "source": [
    "\n",
    "# load POS tagged corpora from NLTK\n",
    "treebank_corpus = treebank.tagged_sents(tagset='universal')\n",
    "brown_corpus = brown.tagged_sents(tagset='universal')\n",
    "conll_corpus = conll2000.tagged_sents(tagset='universal')\n",
    "tagged_sentences = treebank_corpus + brown_corpus + conll_corpus"
   ]
  },
  {
   "cell_type": "code",
   "execution_count": 4,
   "id": "b72487b7",
   "metadata": {
    "execution": {
     "iopub.execute_input": "2023-06-21T12:27:13.034283Z",
     "iopub.status.busy": "2023-06-21T12:27:13.033494Z",
     "iopub.status.idle": "2023-06-21T12:27:23.530089Z",
     "shell.execute_reply": "2023-06-21T12:27:23.528989Z"
    },
    "papermill": {
     "duration": 10.516565,
     "end_time": "2023-06-21T12:27:23.532841",
     "exception": false,
     "start_time": "2023-06-21T12:27:13.016276",
     "status": "completed"
    },
    "tags": []
   },
   "outputs": [
    {
     "data": {
      "text/plain": [
       "[('``', '.'),\n",
       " ('We', 'PRON'),\n",
       " ('have', 'VERB'),\n",
       " ('no', 'DET'),\n",
       " ('useful', 'ADJ'),\n",
       " ('information', 'NOUN'),\n",
       " ('on', 'ADP'),\n",
       " ('whether', 'ADP'),\n",
       " ('users', 'NOUN'),\n",
       " ('are', 'VERB'),\n",
       " ('at', 'ADP'),\n",
       " ('risk', 'NOUN'),\n",
       " (',', '.'),\n",
       " (\"''\", '.'),\n",
       " ('said', 'VERB'),\n",
       " ('*T*-1', 'X'),\n",
       " ('James', 'NOUN'),\n",
       " ('A.', 'NOUN'),\n",
       " ('Talcott', 'NOUN'),\n",
       " ('of', 'ADP'),\n",
       " ('Boston', 'NOUN'),\n",
       " (\"'s\", 'PRT'),\n",
       " ('Dana-Farber', 'NOUN'),\n",
       " ('Cancer', 'NOUN'),\n",
       " ('Institute', 'NOUN'),\n",
       " ('.', '.')]"
      ]
     },
     "execution_count": 4,
     "metadata": {},
     "output_type": "execute_result"
    }
   ],
   "source": [
    "tagged_sentences[11]"
   ]
  },
  {
   "cell_type": "code",
   "execution_count": 5,
   "id": "384dc7a4",
   "metadata": {
    "execution": {
     "iopub.execute_input": "2023-06-21T12:27:23.567709Z",
     "iopub.status.busy": "2023-06-21T12:27:23.567299Z",
     "iopub.status.idle": "2023-06-21T12:27:31.533792Z",
     "shell.execute_reply": "2023-06-21T12:27:31.532333Z"
    },
    "papermill": {
     "duration": 7.987437,
     "end_time": "2023-06-21T12:27:31.536754",
     "exception": false,
     "start_time": "2023-06-21T12:27:23.549317",
     "status": "completed"
    },
    "tags": []
   },
   "outputs": [],
   "source": [
    "X = [] # store input sequence\n",
    "Y = [] # store output sequence\n",
    "\n",
    "for sentence in tagged_sentences:\n",
    "    X_sentence = []\n",
    "    Y_sentence = []\n",
    "    for entity in sentence:         \n",
    "        X_sentence.append(entity[0])  # entity[0] contains the word\n",
    "        Y_sentence.append(entity[1])  # entity[1] contains corresponding tag\n",
    "        \n",
    "    X.append(X_sentence)\n",
    "    Y.append(Y_sentence)"
   ]
  },
  {
   "cell_type": "code",
   "execution_count": 6,
   "id": "d5fd1d89",
   "metadata": {
    "execution": {
     "iopub.execute_input": "2023-06-21T12:27:31.571478Z",
     "iopub.status.busy": "2023-06-21T12:27:31.571093Z",
     "iopub.status.idle": "2023-06-21T12:27:32.413909Z",
     "shell.execute_reply": "2023-06-21T12:27:32.412769Z"
    },
    "papermill": {
     "duration": 0.863497,
     "end_time": "2023-06-21T12:27:32.416716",
     "exception": false,
     "start_time": "2023-06-21T12:27:31.553219",
     "status": "completed"
    },
    "tags": []
   },
   "outputs": [],
   "source": [
    "num_words = len(set([word.lower() for sentence in X for word in sentence]))\n",
    "num_tags = len(set([word.lower() for sentence in Y for word in sentence]))"
   ]
  },
  {
   "cell_type": "code",
   "execution_count": 7,
   "id": "fe1a5a6d",
   "metadata": {
    "execution": {
     "iopub.execute_input": "2023-06-21T12:27:32.452041Z",
     "iopub.status.busy": "2023-06-21T12:27:32.451579Z",
     "iopub.status.idle": "2023-06-21T12:27:32.458256Z",
     "shell.execute_reply": "2023-06-21T12:27:32.457038Z"
    },
    "papermill": {
     "duration": 0.026637,
     "end_time": "2023-06-21T12:27:32.460363",
     "exception": false,
     "start_time": "2023-06-21T12:27:32.433726",
     "status": "completed"
    },
    "tags": []
   },
   "outputs": [
    {
     "name": "stdout",
     "output_type": "stream",
     "text": [
      "Total number of tagged sentences: 72202\n",
      "Vocabulary size: 59448\n",
      "Total number of tags: 12\n"
     ]
    }
   ],
   "source": [
    "print(\"Total number of tagged sentences: {}\".format(len(X)))\n",
    "print(\"Vocabulary size: {}\".format(num_words))\n",
    "print(\"Total number of tags: {}\".format(num_tags))"
   ]
  },
  {
   "cell_type": "code",
   "execution_count": 8,
   "id": "fe709f8d",
   "metadata": {
    "execution": {
     "iopub.execute_input": "2023-06-21T12:27:32.495163Z",
     "iopub.status.busy": "2023-06-21T12:27:32.494503Z",
     "iopub.status.idle": "2023-06-21T12:27:32.499659Z",
     "shell.execute_reply": "2023-06-21T12:27:32.498613Z"
    },
    "papermill": {
     "duration": 0.025494,
     "end_time": "2023-06-21T12:27:32.501975",
     "exception": false,
     "start_time": "2023-06-21T12:27:32.476481",
     "status": "completed"
    },
    "tags": []
   },
   "outputs": [
    {
     "name": "stdout",
     "output_type": "stream",
     "text": [
      "sample X:  ['Pierre', 'Vinken', ',', '61', 'years', 'old', ',', 'will', 'join', 'the', 'board', 'as', 'a', 'nonexecutive', 'director', 'Nov.', '29', '.'] \n",
      "\n",
      "sample Y:  ['NOUN', 'NOUN', '.', 'NUM', 'NOUN', 'ADJ', '.', 'VERB', 'VERB', 'DET', 'NOUN', 'ADP', 'DET', 'ADJ', 'NOUN', 'NOUN', 'NUM', '.'] \n",
      "\n"
     ]
    }
   ],
   "source": [
    "# this is one data point that will be fed to the RNN\n",
    "print('sample X: ', X[0], '\\n')\n",
    "print('sample Y: ', Y[0], '\\n')"
   ]
  },
  {
   "cell_type": "code",
   "execution_count": 9,
   "id": "af741041",
   "metadata": {
    "execution": {
     "iopub.execute_input": "2023-06-21T12:27:32.536653Z",
     "iopub.status.busy": "2023-06-21T12:27:32.536251Z",
     "iopub.status.idle": "2023-06-21T12:27:32.542319Z",
     "shell.execute_reply": "2023-06-21T12:27:32.541221Z"
    },
    "papermill": {
     "duration": 0.025978,
     "end_time": "2023-06-21T12:27:32.544737",
     "exception": false,
     "start_time": "2023-06-21T12:27:32.518759",
     "status": "completed"
    },
    "tags": []
   },
   "outputs": [
    {
     "name": "stdout",
     "output_type": "stream",
     "text": [
      "Length of first input sequence  : 18\n",
      "Length of first output sequence : 18\n"
     ]
    }
   ],
   "source": [
    "# In this many-to-many problem, the length of each input and output sequence must be the same.\n",
    "# Since each word is tagged, it's important to make sure that the length of input sequence equals the output sequence\n",
    "print(\"Length of first input sequence  : {}\".format(len(X[0])))\n",
    "print(\"Length of first output sequence : {}\".format(len(Y[0])))"
   ]
  },
  {
   "cell_type": "markdown",
   "id": "64c319fd",
   "metadata": {
    "papermill": {
     "duration": 0.015956,
     "end_time": "2023-06-21T12:27:32.577135",
     "exception": false,
     "start_time": "2023-06-21T12:27:32.561179",
     "status": "completed"
    },
    "tags": []
   },
   "source": [
    "# Vectorize X and Y\n",
    "\n",
    "### Encoding X and Y to integer values"
   ]
  },
  {
   "cell_type": "code",
   "execution_count": 10,
   "id": "c5458628",
   "metadata": {
    "execution": {
     "iopub.execute_input": "2023-06-21T12:27:32.611509Z",
     "iopub.status.busy": "2023-06-21T12:27:32.611111Z",
     "iopub.status.idle": "2023-06-21T12:27:35.027665Z",
     "shell.execute_reply": "2023-06-21T12:27:35.026654Z"
    },
    "papermill": {
     "duration": 2.436875,
     "end_time": "2023-06-21T12:27:35.030244",
     "exception": false,
     "start_time": "2023-06-21T12:27:32.593369",
     "status": "completed"
    },
    "tags": []
   },
   "outputs": [],
   "source": [
    "#from tensorflow.keras.preprocessing.text import Tokenizer\n",
    "\n",
    "word_tokenizer = Tokenizer()\n",
    "word_tokenizer.fit_on_texts(X)\n",
    "X_encoded = word_tokenizer.texts_to_sequences(X)"
   ]
  },
  {
   "cell_type": "code",
   "execution_count": 11,
   "id": "53b0cba2",
   "metadata": {
    "execution": {
     "iopub.execute_input": "2023-06-21T12:27:35.065838Z",
     "iopub.status.busy": "2023-06-21T12:27:35.065457Z",
     "iopub.status.idle": "2023-06-21T12:27:37.052009Z",
     "shell.execute_reply": "2023-06-21T12:27:37.050734Z"
    },
    "papermill": {
     "duration": 2.007344,
     "end_time": "2023-06-21T12:27:37.054615",
     "exception": false,
     "start_time": "2023-06-21T12:27:35.047271",
     "status": "completed"
    },
    "tags": []
   },
   "outputs": [],
   "source": [
    "tag_tokenizer = Tokenizer()\n",
    "tag_tokenizer.fit_on_texts(Y)\n",
    "Y_encoded = tag_tokenizer.texts_to_sequences(Y)"
   ]
  },
  {
   "cell_type": "code",
   "execution_count": 12,
   "id": "7864df20",
   "metadata": {
    "execution": {
     "iopub.execute_input": "2023-06-21T12:27:37.090713Z",
     "iopub.status.busy": "2023-06-21T12:27:37.090317Z",
     "iopub.status.idle": "2023-06-21T12:27:37.097582Z",
     "shell.execute_reply": "2023-06-21T12:27:37.096442Z"
    },
    "papermill": {
     "duration": 0.0273,
     "end_time": "2023-06-21T12:27:37.099746",
     "exception": false,
     "start_time": "2023-06-21T12:27:37.072446",
     "status": "completed"
    },
    "tags": []
   },
   "outputs": [
    {
     "name": "stdout",
     "output_type": "stream",
     "text": [
      "** Raw data point ** \n",
      " ---------------------------------------------------------------------------------------------------- \n",
      "\n",
      "X:  ['Pierre', 'Vinken', ',', '61', 'years', 'old', ',', 'will', 'join', 'the', 'board', 'as', 'a', 'nonexecutive', 'director', 'Nov.', '29', '.'] \n",
      "\n",
      "Y:  ['NOUN', 'NOUN', '.', 'NUM', 'NOUN', 'ADJ', '.', 'VERB', 'VERB', 'DET', 'NOUN', 'ADP', 'DET', 'ADJ', 'NOUN', 'NOUN', 'NUM', '.'] \n",
      "\n",
      "\n",
      "** Encoded data point ** \n",
      " ---------------------------------------------------------------------------------------------------- \n",
      "\n",
      "X:  [6423, 24231, 2, 7652, 102, 170, 2, 47, 1898, 1, 269, 17, 7, 13230, 619, 1711, 2761, 3] \n",
      "\n",
      "Y:  [1, 1, 3, 11, 1, 6, 3, 2, 2, 5, 1, 4, 5, 6, 1, 1, 11, 3] \n",
      "\n"
     ]
    }
   ],
   "source": [
    "# look at first encoded data point\n",
    "\n",
    "print(\"** Raw data point **\", \"\\n\", \"-\"*100, \"\\n\")\n",
    "print('X: ', X[0], '\\n')\n",
    "print('Y: ', Y[0], '\\n')\n",
    "print()\n",
    "print(\"** Encoded data point **\", \"\\n\", \"-\"*100, \"\\n\")\n",
    "print('X: ', X_encoded[0], '\\n')\n",
    "print('Y: ', Y_encoded[0], '\\n')"
   ]
  },
  {
   "cell_type": "code",
   "execution_count": 13,
   "id": "d8b6c06a",
   "metadata": {
    "execution": {
     "iopub.execute_input": "2023-06-21T12:27:37.135268Z",
     "iopub.status.busy": "2023-06-21T12:27:37.134863Z",
     "iopub.status.idle": "2023-06-21T12:27:37.162172Z",
     "shell.execute_reply": "2023-06-21T12:27:37.160693Z"
    },
    "papermill": {
     "duration": 0.048085,
     "end_time": "2023-06-21T12:27:37.164479",
     "exception": false,
     "start_time": "2023-06-21T12:27:37.116394",
     "status": "completed"
    },
    "tags": []
   },
   "outputs": [
    {
     "name": "stdout",
     "output_type": "stream",
     "text": [
      "0 sentences have disparate input output lengths.\n"
     ]
    }
   ],
   "source": [
    "different_length = [1 if len(input) != len(output) else 0 for input, output in zip(X_encoded, Y_encoded)]\n",
    "print('{} sentences have disparate input output lengths.'.format(sum(different_length)))"
   ]
  },
  {
   "cell_type": "markdown",
   "id": "59e98722",
   "metadata": {
    "papermill": {
     "duration": 0.016186,
     "end_time": "2023-06-21T12:27:37.198936",
     "exception": false,
     "start_time": "2023-06-21T12:27:37.182750",
     "status": "completed"
    },
    "tags": []
   },
   "source": [
    "# Pad Sequences"
   ]
  },
  {
   "cell_type": "code",
   "execution_count": 14,
   "id": "c7122489",
   "metadata": {
    "execution": {
     "iopub.execute_input": "2023-06-21T12:27:37.234899Z",
     "iopub.status.busy": "2023-06-21T12:27:37.234494Z",
     "iopub.status.idle": "2023-06-21T12:27:37.250968Z",
     "shell.execute_reply": "2023-06-21T12:27:37.249938Z"
    },
    "papermill": {
     "duration": 0.036936,
     "end_time": "2023-06-21T12:27:37.253244",
     "exception": false,
     "start_time": "2023-06-21T12:27:37.216308",
     "status": "completed"
    },
    "tags": []
   },
   "outputs": [
    {
     "name": "stdout",
     "output_type": "stream",
     "text": [
      "Length of longest sentence: 271\n"
     ]
    }
   ],
   "source": [
    "# check length of longest sentence\n",
    "lengths = [len(seq) for seq in X_encoded]\n",
    "print(\"Length of longest sentence: {}\".format(max(lengths)))"
   ]
  },
  {
   "cell_type": "code",
   "execution_count": 15,
   "id": "00722951",
   "metadata": {
    "execution": {
     "iopub.execute_input": "2023-06-21T12:27:37.289282Z",
     "iopub.status.busy": "2023-06-21T12:27:37.288892Z",
     "iopub.status.idle": "2023-06-21T12:27:37.512026Z",
     "shell.execute_reply": "2023-06-21T12:27:37.510913Z"
    },
    "papermill": {
     "duration": 0.244227,
     "end_time": "2023-06-21T12:27:37.514258",
     "exception": false,
     "start_time": "2023-06-21T12:27:37.270031",
     "status": "completed"
    },
    "tags": []
   },
   "outputs": [
    {
     "data": {
      "image/png": "[encoded data removed]",
      "text/plain": [
       "<Figure size 640x480 with 1 Axes>"
      ]
     },
     "metadata": {},
     "output_type": "display_data"
    }
   ],
   "source": [
    "sns.boxplot(lengths)\n",
    "plt.show()"
   ]
  },
  {
   "cell_type": "code",
   "execution_count": 16,
   "id": "f2a467ac",
   "metadata": {
    "execution": {
     "iopub.execute_input": "2023-06-21T12:27:37.550345Z",
     "iopub.status.busy": "2023-06-21T12:27:37.549209Z",
     "iopub.status.idle": "2023-06-21T12:27:38.084383Z",
     "shell.execute_reply": "2023-06-21T12:27:38.083327Z"
    },
    "papermill": {
     "duration": 0.555938,
     "end_time": "2023-06-21T12:27:38.086979",
     "exception": false,
     "start_time": "2023-06-21T12:27:37.531041",
     "status": "completed"
    },
    "tags": []
   },
   "outputs": [],
   "source": [
    "MAX_SEQ_LENGTH = 100\n",
    "\n",
    "X_padded = pad_sequences(X_encoded, maxlen = MAX_SEQ_LENGTH, padding='pre', truncating='post')\n",
    "Y_padded = pad_sequences(Y_encoded, maxlen = MAX_SEQ_LENGTH, padding='pre', truncating='post')"
   ]
  },
  {
   "cell_type": "code",
   "execution_count": 17,
   "id": "c4e0a58a",
   "metadata": {
    "execution": {
     "iopub.execute_input": "2023-06-21T12:27:38.122691Z",
     "iopub.status.busy": "2023-06-21T12:27:38.122317Z",
     "iopub.status.idle": "2023-06-21T12:27:38.129150Z",
     "shell.execute_reply": "2023-06-21T12:27:38.127891Z"
    },
    "papermill": {
     "duration": 0.027612,
     "end_time": "2023-06-21T12:27:38.131776",
     "exception": false,
     "start_time": "2023-06-21T12:27:38.104164",
     "status": "completed"
    },
    "tags": []
   },
   "outputs": [
    {
     "name": "stdout",
     "output_type": "stream",
     "text": [
      "[    0     0     0     0     0     0     0     0     0     0     0     0\n",
      "     0     0     0     0     0     0     0     0     0     0     0     0\n",
      "     0     0     0     0     0     0     0     0     0     0     0     0\n",
      "     0     0     0     0     0     0     0     0     0     0     0     0\n",
      "     0     0     0     0     0     0     0     0     0     0     0     0\n",
      "     0     0     0     0     0     0     0     0     0     0     0     0\n",
      "     0     0     0     0     0     0     0     0     0     0  6423 24231\n",
      "     2  7652   102   170     2    47  1898     1   269    17     7 13230\n",
      "   619  1711  2761     3] \n",
      "\n",
      "\n",
      "\n",
      "[ 0  0  0  0  0  0  0  0  0  0  0  0  0  0  0  0  0  0  0  0  0  0  0  0\n",
      "  0  0  0  0  0  0  0  0  0  0  0  0  0  0  0  0  0  0  0  0  0  0  0  0\n",
      "  0  0  0  0  0  0  0  0  0  0  0  0  0  0  0  0  0  0  0  0  0  0  0  0\n",
      "  0  0  0  0  0  0  0  0  0  0  1  1  3 11  1  6  3  2  2  5  1  4  5  6\n",
      "  1  1 11  3]\n"
     ]
    }
   ],
   "source": [
    "# print the first sequence\n",
    "print(X_padded[0], \"\\n\"*3)\n",
    "print(Y_padded[0])"
   ]
  },
  {
   "cell_type": "code",
   "execution_count": 18,
   "id": "fb86feca",
   "metadata": {
    "execution": {
     "iopub.execute_input": "2023-06-21T12:27:38.167115Z",
     "iopub.status.busy": "2023-06-21T12:27:38.166703Z",
     "iopub.status.idle": "2023-06-21T12:27:38.249699Z",
     "shell.execute_reply": "2023-06-21T12:27:38.248574Z"
    },
    "papermill": {
     "duration": 0.103523,
     "end_time": "2023-06-21T12:27:38.252176",
     "exception": false,
     "start_time": "2023-06-21T12:27:38.148653",
     "status": "completed"
    },
    "tags": []
   },
   "outputs": [],
   "source": [
    "# assign padded sequences to X and Y\n",
    "X, Y = X_padded, Y_padded"
   ]
  },
  {
   "cell_type": "markdown",
   "id": "cfee1aa1",
   "metadata": {
    "papermill": {
     "duration": 0.016768,
     "end_time": "2023-06-21T12:27:38.286673",
     "exception": false,
     "start_time": "2023-06-21T12:27:38.269905",
     "status": "completed"
    },
    "tags": []
   },
   "source": [
    "# Word embeddings"
   ]
  },
  {
   "cell_type": "code",
   "execution_count": 19,
   "id": "827f1b72",
   "metadata": {
    "execution": {
     "iopub.execute_input": "2023-06-21T12:27:38.322755Z",
     "iopub.status.busy": "2023-06-21T12:27:38.322347Z",
     "iopub.status.idle": "2023-06-21T12:28:41.478226Z",
     "shell.execute_reply": "2023-06-21T12:28:41.477137Z"
    },
    "papermill": {
     "duration": 63.177083,
     "end_time": "2023-06-21T12:28:41.480842",
     "exception": false,
     "start_time": "2023-06-21T12:27:38.303759",
     "status": "completed"
    },
    "tags": []
   },
   "outputs": [],
   "source": [
    "# word2vec download link (Size ~ 1.5GB): https://drive.google.com/file/d/0B7XkCwpI5KDYNlNUTTlSS21pQmM/edit\n",
    "\n",
    "path = '/kaggle/input/word2vec/GoogleNews-vectors-negative300.bin'\n",
    "# load word2vec using the following function present in the gensim library\n",
    "word2vec = KeyedVectors.load_word2vec_format(path, binary=True)"
   ]
  },
  {
   "cell_type": "code",
   "execution_count": 20,
   "id": "c819cf14",
   "metadata": {
    "execution": {
     "iopub.execute_input": "2023-06-21T12:28:41.517282Z",
     "iopub.status.busy": "2023-06-21T12:28:41.516898Z",
     "iopub.status.idle": "2023-06-21T12:28:44.663561Z",
     "shell.execute_reply": "2023-06-21T12:28:44.662361Z"
    },
    "papermill": {
     "duration": 3.167951,
     "end_time": "2023-06-21T12:28:44.666641",
     "exception": false,
     "start_time": "2023-06-21T12:28:41.498690",
     "status": "completed"
    },
    "tags": []
   },
   "outputs": [
    {
     "data": {
      "text/plain": [
       "[('Queen', 0.4929387867450714),\n",
       " ('Tupou_V.', 0.45174285769462585),\n",
       " ('Oprah_BFF_Gayle', 0.4422132968902588),\n",
       " ('Jackson', 0.440250426530838),\n",
       " ('NECN_Alison', 0.4331282675266266),\n",
       " ('Whitfield', 0.42834725975990295),\n",
       " ('Ida_Vandross', 0.42084527015686035),\n",
       " ('prosecutor_Dan_Satterberg', 0.420758992433548),\n",
       " ('martin_Luther_King', 0.42059651017189026),\n",
       " ('Coretta_King', 0.4202733635902405)]"
      ]
     },
     "execution_count": 20,
     "metadata": {},
     "output_type": "execute_result"
    }
   ],
   "source": [
    "# word2vec effectiveness\n",
    "word2vec.most_similar(positive = [\"King\", \"Woman\"], negative = [\"Man\"])"
   ]
  },
  {
   "cell_type": "code",
   "execution_count": 21,
   "id": "4c83737c",
   "metadata": {
    "execution": {
     "iopub.execute_input": "2023-06-21T12:28:44.709169Z",
     "iopub.status.busy": "2023-06-21T12:28:44.708207Z",
     "iopub.status.idle": "2023-06-21T12:28:45.013612Z",
     "shell.execute_reply": "2023-06-21T12:28:45.012305Z"
    },
    "papermill": {
     "duration": 0.3271,
     "end_time": "2023-06-21T12:28:45.016460",
     "exception": false,
     "start_time": "2023-06-21T12:28:44.689360",
     "status": "completed"
    },
    "tags": []
   },
   "outputs": [],
   "source": [
    "# assign word vectors from word2vec model\n",
    "\n",
    "EMBEDDING_SIZE  = 300  # each word in word2vec model is represented using a 300 dimensional vector\n",
    "VOCABULARY_SIZE = len(word_tokenizer.word_index) + 1\n",
    "\n",
    "# create an empty embedding matix\n",
    "embedding_weights = np.zeros((VOCABULARY_SIZE, EMBEDDING_SIZE))\n",
    "\n",
    "# create a word to index dictionary mapping\n",
    "word2id = word_tokenizer.word_index\n",
    "\n",
    "# copy vectors from word2vec model to the words present in corpus\n",
    "for word, index in word2id.items():\n",
    "    try:\n",
    "        embedding_weights[index, :] = word2vec[word]\n",
    "    except KeyError:\n",
    "        pass"
   ]
  },
  {
   "cell_type": "code",
   "execution_count": 22,
   "id": "e3aba6c9",
   "metadata": {
    "execution": {
     "iopub.execute_input": "2023-06-21T12:28:45.053163Z",
     "iopub.status.busy": "2023-06-21T12:28:45.052736Z",
     "iopub.status.idle": "2023-06-21T12:28:45.058535Z",
     "shell.execute_reply": "2023-06-21T12:28:45.057454Z"
    },
    "papermill": {
     "duration": 0.027861,
     "end_time": "2023-06-21T12:28:45.061438",
     "exception": false,
     "start_time": "2023-06-21T12:28:45.033577",
     "status": "completed"
    },
    "tags": []
   },
   "outputs": [
    {
     "name": "stdout",
     "output_type": "stream",
     "text": [
      "Embeddings shape: (59449, 300)\n"
     ]
    }
   ],
   "source": [
    "# check embedding dimension\n",
    "print(\"Embeddings shape: {}\".format(embedding_weights.shape))"
   ]
  },
  {
   "cell_type": "code",
   "execution_count": 23,
   "id": "067b3d62",
   "metadata": {
    "execution": {
     "iopub.execute_input": "2023-06-21T12:28:45.097871Z",
     "iopub.status.busy": "2023-06-21T12:28:45.097492Z",
     "iopub.status.idle": "2023-06-21T12:28:45.175898Z",
     "shell.execute_reply": "2023-06-21T12:28:45.174829Z"
    },
    "papermill": {
     "duration": 0.099337,
     "end_time": "2023-06-21T12:28:45.178162",
     "exception": false,
     "start_time": "2023-06-21T12:28:45.078825",
     "status": "completed"
    },
    "tags": []
   },
   "outputs": [
    {
     "data": {
      "text/plain": [
       "array([ 0.4453125 , -0.20019531,  0.20019531, -0.03149414,  0.078125  ,\n",
       "       -0.390625  ,  0.13671875, -0.13867188,  0.05395508,  0.10546875,\n",
       "       -0.05029297, -0.23730469,  0.19921875,  0.12597656, -0.12695312,\n",
       "        0.34179688,  0.06347656,  0.26757812, -0.07324219, -0.29101562,\n",
       "        0.10498047,  0.11914062,  0.23730469,  0.00640869,  0.12451172,\n",
       "       -0.00939941, -0.02770996,  0.03076172,  0.07421875, -0.22851562,\n",
       "       -0.08056641, -0.05273438,  0.16894531,  0.19824219, -0.15625   ,\n",
       "       -0.08740234,  0.10742188, -0.07177734,  0.05200195,  0.25976562,\n",
       "        0.171875  , -0.13574219,  0.06738281,  0.00531006,  0.15527344,\n",
       "       -0.03515625,  0.08789062,  0.3359375 , -0.12890625,  0.17578125,\n",
       "       -0.08642578,  0.32421875, -0.09033203,  0.35351562,  0.24316406,\n",
       "       -0.07470703, -0.06640625, -0.17578125,  0.06689453, -0.03833008,\n",
       "        0.0100708 , -0.21484375, -0.03686523,  0.04394531,  0.02209473,\n",
       "        0.00219727, -0.22460938,  0.03015137, -0.21582031,  0.16015625,\n",
       "        0.23339844, -0.16699219, -0.09228516,  0.10644531,  0.19335938,\n",
       "       -0.26757812,  0.15722656, -0.08691406,  0.11181641,  0.14941406,\n",
       "       -0.20507812,  0.04882812, -0.07519531, -0.21582031, -0.10107422,\n",
       "       -0.13378906, -0.06103516,  0.05444336,  0.07470703,  0.09521484,\n",
       "       -0.0144043 ,  0.27929688, -0.25585938, -0.05273438, -0.22460938,\n",
       "        0.10253906, -0.15136719,  0.21289062, -0.04711914, -0.12109375,\n",
       "        0.04663086,  0.25976562,  0.13574219,  0.00799561,  0.02001953,\n",
       "        0.1796875 ,  0.30664062,  0.06152344,  0.13574219, -0.09619141,\n",
       "       -0.07421875,  0.38671875,  0.20800781,  0.12695312,  0.05200195,\n",
       "        0.17675781, -0.16796875, -0.19335938, -0.06152344, -0.07568359,\n",
       "       -0.18457031,  0.06030273, -0.15136719, -0.1953125 , -0.23339844,\n",
       "        0.00738525, -0.02478027, -0.09765625, -0.06054688,  0.20214844,\n",
       "       -0.2734375 ,  0.00595093, -0.34570312, -0.12988281,  0.00418091,\n",
       "        0.09960938,  0.0246582 ,  0.15917969, -0.02038574,  0.30273438,\n",
       "       -0.20800781, -0.20214844, -0.03930664, -0.06494141,  0.00436401,\n",
       "       -0.02270508, -0.171875  ,  0.30273438, -0.16113281, -0.49414062,\n",
       "        0.3515625 ,  0.39257812,  0.09814453,  0.41796875,  0.05371094,\n",
       "        0.02392578, -0.03710938, -0.08251953, -0.38671875, -0.40625   ,\n",
       "       -0.05664062,  0.203125  , -0.01782227,  0.3359375 ,  0.19140625,\n",
       "       -0.44335938,  0.00927734,  0.24804688, -0.05102539,  0.19726562,\n",
       "        0.03881836,  0.03442383, -0.40039062, -0.09912109, -0.07128906,\n",
       "        0.21484375, -0.01422119,  0.04907227, -0.07421875, -0.21582031,\n",
       "       -0.41992188,  0.02172852,  0.11083984, -0.33398438, -0.2734375 ,\n",
       "       -0.05322266, -0.16601562, -0.28515625, -0.12207031,  0.04882812,\n",
       "       -0.0625    , -0.04077148, -0.16503906,  0.0480957 , -0.21191406,\n",
       "        0.20019531, -0.2109375 ,  0.10839844, -0.14648438, -0.07958984,\n",
       "       -0.05151367, -0.16601562, -0.24902344, -0.375     ,  0.05664062,\n",
       "       -0.13671875, -0.2578125 ,  0.28515625, -0.04736328,  0.13574219,\n",
       "       -0.14550781,  0.19433594, -0.21972656,  0.08447266, -0.10791016,\n",
       "       -0.11816406, -0.16015625,  0.12060547, -0.10888672,  0.04345703,\n",
       "        0.11474609, -0.08447266, -0.00720215,  0.03662109, -0.38671875,\n",
       "       -0.03881836, -0.03198242,  0.00344849,  0.22558594, -0.06787109,\n",
       "       -0.16699219,  0.2421875 ,  0.05712891,  0.27539062, -0.0456543 ,\n",
       "       -0.19042969, -0.17285156,  0.00836182, -0.03271484,  0.16992188,\n",
       "       -0.18554688, -0.0703125 , -0.32617188, -0.00668335, -0.02770996,\n",
       "        0.3359375 ,  0.125     , -0.2109375 ,  0.06005859, -0.07080078,\n",
       "        0.11132812,  0.125     ,  0.25390625,  0.29296875, -0.03125   ,\n",
       "        0.09033203, -0.20507812, -0.07861328,  0.02062988, -0.0546875 ,\n",
       "       -0.23339844,  0.00096893, -0.04516602,  0.16894531, -0.22167969,\n",
       "        0.08105469,  0.33398438,  0.09619141,  0.00866699, -0.03271484,\n",
       "        0.05493164,  0.12109375,  0.16210938, -0.10302734,  0.27148438,\n",
       "       -0.03344727, -0.30273438,  0.04223633,  0.08496094, -0.15527344,\n",
       "        0.10107422, -0.11474609, -0.13085938,  0.22949219,  0.12988281,\n",
       "        0.09863281, -0.03588867,  0.10693359, -0.24902344,  0.19238281,\n",
       "       -0.05322266, -0.09033203, -0.31640625, -0.5703125 , -0.15917969,\n",
       "        0.0291748 , -0.0246582 , -0.07714844, -0.04663086, -0.17578125])"
      ]
     },
     "execution_count": 23,
     "metadata": {},
     "output_type": "execute_result"
    }
   ],
   "source": [
    "# let's look at an embedding of a word\n",
    "embedding_weights[word_tokenizer.word_index['joy']]"
   ]
  },
  {
   "cell_type": "code",
   "execution_count": 24,
   "id": "8a15d712",
   "metadata": {
    "execution": {
     "iopub.execute_input": "2023-06-21T12:28:45.214823Z",
     "iopub.status.busy": "2023-06-21T12:28:45.214428Z",
     "iopub.status.idle": "2023-06-21T12:28:45.223604Z",
     "shell.execute_reply": "2023-06-21T12:28:45.222655Z"
    },
    "papermill": {
     "duration": 0.029838,
     "end_time": "2023-06-21T12:28:45.225553",
     "exception": false,
     "start_time": "2023-06-21T12:28:45.195715",
     "status": "completed"
    },
    "tags": []
   },
   "outputs": [
    {
     "data": {
      "text/plain": [
       "array([-1.39648438e-01,  1.64062500e-01,  1.61132812e-02,  1.07910156e-01,\n",
       "        2.18750000e-01, -2.63671875e-01, -1.13281250e-01, -1.19628906e-01,\n",
       "       -6.68945312e-02,  9.61914062e-02, -1.21093750e-01, -1.71875000e-01,\n",
       "        1.23046875e-01,  1.93359375e-01, -2.99072266e-02,  1.51367188e-01,\n",
       "       -1.13769531e-01,  1.46484375e-02, -5.58471680e-03,  1.10351562e-01,\n",
       "       -1.64062500e-01,  3.24707031e-02, -1.09863281e-01, -3.41796875e-01,\n",
       "       -1.45507812e-01, -2.09960938e-01, -1.82617188e-01,  1.78710938e-01,\n",
       "       -1.31835938e-01, -1.76757812e-01,  2.42614746e-03, -2.53906250e-02,\n",
       "       -1.73828125e-01, -1.86523438e-01, -4.05273438e-02,  9.91210938e-02,\n",
       "       -6.00585938e-02, -1.35742188e-01, -6.59179688e-02,  1.26953125e-01,\n",
       "       -6.29882812e-02,  9.96093750e-02,  5.17578125e-02, -4.44335938e-02,\n",
       "       -1.62353516e-02, -9.42382812e-02, -7.42187500e-02, -2.92968750e-02,\n",
       "        1.78710938e-01,  1.23046875e-01,  2.51953125e-01, -9.08203125e-02,\n",
       "       -1.76239014e-03,  1.89453125e-01, -1.10351562e-01, -3.22265625e-01,\n",
       "        5.61523438e-02,  8.20159912e-05, -1.14746094e-01,  5.79833984e-03,\n",
       "        7.12890625e-02, -4.07714844e-02, -4.93164062e-02, -2.99072266e-02,\n",
       "        1.37695312e-01,  5.12695312e-02, -4.68750000e-02,  2.73437500e-01,\n",
       "        2.06054688e-01,  4.19921875e-02, -6.64062500e-02,  2.50000000e-01,\n",
       "       -2.73437500e-02,  1.26953125e-01,  7.12890625e-02, -9.22851562e-02,\n",
       "       -1.16210938e-01,  2.34375000e-01,  3.12500000e-02,  2.30468750e-01,\n",
       "       -4.17480469e-02, -1.26953125e-01,  5.44433594e-02,  1.41601562e-01,\n",
       "       -4.33593750e-01, -2.29492188e-02, -9.52148438e-02,  3.07617188e-02,\n",
       "        1.00097656e-01,  8.59375000e-02, -3.37890625e-01, -3.02734375e-01,\n",
       "       -1.32812500e-01, -2.36816406e-02,  1.96289062e-01, -8.69140625e-02,\n",
       "        2.42187500e-01, -2.32421875e-01,  2.20703125e-01, -8.93554688e-02,\n",
       "        4.44335938e-02, -8.54492188e-02, -1.47460938e-01, -1.10839844e-01,\n",
       "        4.98046875e-02,  8.10546875e-02,  1.01318359e-02, -1.21582031e-01,\n",
       "        2.10937500e-01, -9.94873047e-03,  1.78710938e-01,  1.08398438e-01,\n",
       "       -4.56542969e-02,  2.03125000e-01, -8.59375000e-02, -1.21582031e-01,\n",
       "        1.13769531e-01, -1.87500000e-01,  5.27343750e-02,  7.76367188e-02,\n",
       "       -3.10546875e-01,  1.53320312e-01, -4.29687500e-02, -1.17675781e-01,\n",
       "       -1.04003906e-01,  8.60595703e-03,  1.56250000e-02,  2.32421875e-01,\n",
       "        1.06933594e-01,  3.06640625e-01, -6.44531250e-02, -3.84765625e-01,\n",
       "       -2.91015625e-01,  1.46484375e-01,  5.02929688e-02,  5.59082031e-02,\n",
       "        5.68847656e-02, -9.66796875e-02,  6.29882812e-02, -2.24609375e-01,\n",
       "        6.29882812e-02, -2.55859375e-01,  3.39843750e-01, -2.99072266e-02,\n",
       "       -2.37304688e-01,  1.90429688e-01, -8.00781250e-02,  1.45507812e-01,\n",
       "       -1.87500000e-01, -2.36816406e-02,  1.84570312e-01, -9.71679688e-02,\n",
       "       -1.87988281e-02, -3.61328125e-01,  2.38281250e-01,  1.41601562e-01,\n",
       "       -1.62109375e-01, -6.20117188e-02,  1.85546875e-01, -1.58203125e-01,\n",
       "       -1.24511719e-01, -1.00097656e-01,  7.42187500e-02,  8.88671875e-02,\n",
       "        1.91650391e-02, -2.65625000e-01, -4.85839844e-02,  9.61914062e-02,\n",
       "        1.49536133e-02, -1.04492188e-01, -4.07714844e-02,  2.46582031e-02,\n",
       "       -4.32128906e-02, -1.43554688e-01,  1.36718750e-01, -1.55273438e-01,\n",
       "        2.81250000e-01, -1.04003906e-01, -4.24804688e-02, -4.29687500e-02,\n",
       "        4.46777344e-02, -1.38671875e-01, -1.43554688e-01, -1.42578125e-01,\n",
       "       -2.69531250e-01,  1.44653320e-02,  1.33789062e-01,  4.58984375e-02,\n",
       "       -1.97753906e-02,  1.40625000e-01,  1.51367188e-01,  1.68457031e-02,\n",
       "        1.37695312e-01,  1.41601562e-01, -1.91650391e-02,  3.24707031e-02,\n",
       "        2.31445312e-01,  1.23046875e-01, -1.19628906e-01, -6.22558594e-02,\n",
       "       -1.60156250e-01, -1.24511719e-02,  2.72216797e-02, -2.57812500e-01,\n",
       "       -1.20117188e-01, -1.05468750e-01, -5.46875000e-02, -5.88378906e-02,\n",
       "       -1.30859375e-01, -5.54199219e-02, -3.95507812e-02, -6.22558594e-03,\n",
       "        8.49609375e-02,  5.20019531e-02, -1.23046875e-01, -7.32421875e-03,\n",
       "       -7.86132812e-02,  1.67968750e-01, -1.05468750e-01,  1.17187500e-01,\n",
       "       -1.98242188e-01, -9.66796875e-02,  1.91406250e-01, -1.46484375e-01,\n",
       "        3.88183594e-02, -3.18359375e-01,  1.27929688e-01, -1.68945312e-01,\n",
       "       -6.93359375e-02,  4.76074219e-02,  9.37500000e-02,  3.85742188e-02,\n",
       "       -1.66992188e-01,  3.00781250e-01, -1.04492188e-01, -1.80664062e-01,\n",
       "       -4.56542969e-02, -2.48718262e-03,  6.49414062e-02, -2.03857422e-02,\n",
       "        2.77343750e-01, -1.56250000e-01, -1.12915039e-02, -8.39843750e-02,\n",
       "        1.34765625e-01,  6.29882812e-02, -6.93359375e-02,  2.12890625e-01,\n",
       "       -3.39843750e-01,  9.76562500e-02,  1.85546875e-01,  1.34765625e-01,\n",
       "       -2.97851562e-02, -6.68945312e-02,  1.12304688e-01, -8.10546875e-02,\n",
       "        1.20605469e-01, -1.30859375e-01,  9.71679688e-02,  1.93359375e-01,\n",
       "       -3.90625000e-02, -1.89453125e-01,  2.83203125e-02, -2.95410156e-02,\n",
       "        6.10351562e-02,  1.18164062e-01, -1.04003906e-01,  2.09960938e-01,\n",
       "       -2.51464844e-02,  2.43164062e-01, -3.80859375e-02,  3.59375000e-01,\n",
       "       -1.91406250e-01,  1.67236328e-02,  2.51953125e-01, -5.54199219e-02,\n",
       "        2.03857422e-02, -2.34375000e-01,  1.32812500e-01,  2.06054688e-01,\n",
       "        1.31835938e-01, -3.53515625e-01,  8.78906250e-03,  6.00585938e-02,\n",
       "       -1.51367188e-01, -9.52148438e-02, -2.01171875e-01, -1.74804688e-01,\n",
       "        7.08007812e-02,  1.66015625e-01,  1.03027344e-01,  1.00097656e-01,\n",
       "       -1.75781250e-01, -2.91015625e-01, -6.34765625e-02, -9.94873047e-03,\n",
       "        1.67968750e-01,  4.68750000e-02,  1.00097656e-01,  5.71289062e-02])"
      ]
     },
     "execution_count": 24,
     "metadata": {},
     "output_type": "execute_result"
    }
   ],
   "source": [
    "# let's look at an embedding of a word\n",
    "embedding_weights[word_tokenizer.word_index['women']]"
   ]
  },
  {
   "cell_type": "markdown",
   "id": "6835906e",
   "metadata": {
    "papermill": {
     "duration": 0.01729,
     "end_time": "2023-06-21T12:28:45.260404",
     "exception": false,
     "start_time": "2023-06-21T12:28:45.243114",
     "status": "completed"
    },
    "tags": []
   },
   "source": [
    "# Use one-hot encoding for output sequences (Y)"
   ]
  },
  {
   "cell_type": "code",
   "execution_count": 25,
   "id": "63ad00fd",
   "metadata": {
    "execution": {
     "iopub.execute_input": "2023-06-21T12:28:45.297409Z",
     "iopub.status.busy": "2023-06-21T12:28:45.297051Z",
     "iopub.status.idle": "2023-06-21T12:28:45.726977Z",
     "shell.execute_reply": "2023-06-21T12:28:45.725907Z"
    },
    "papermill": {
     "duration": 0.451769,
     "end_time": "2023-06-21T12:28:45.729653",
     "exception": false,
     "start_time": "2023-06-21T12:28:45.277884",
     "status": "completed"
    },
    "tags": []
   },
   "outputs": [],
   "source": [
    "# use Keras' to_categorical function to one-hot encode Y\n",
    "Y = to_categorical(Y)"
   ]
  },
  {
   "cell_type": "code",
   "execution_count": 26,
   "id": "bd3cd4cd",
   "metadata": {
    "execution": {
     "iopub.execute_input": "2023-06-21T12:28:45.766603Z",
     "iopub.status.busy": "2023-06-21T12:28:45.766226Z",
     "iopub.status.idle": "2023-06-21T12:28:45.771287Z",
     "shell.execute_reply": "2023-06-21T12:28:45.770160Z"
    },
    "papermill": {
     "duration": 0.026188,
     "end_time": "2023-06-21T12:28:45.773491",
     "exception": false,
     "start_time": "2023-06-21T12:28:45.747303",
     "status": "completed"
    },
    "tags": []
   },
   "outputs": [
    {
     "name": "stdout",
     "output_type": "stream",
     "text": [
      "(72202, 100, 13)\n"
     ]
    }
   ],
   "source": [
    "# print Y of the first output sequqnce\n",
    "print(Y.shape)"
   ]
  },
  {
   "cell_type": "markdown",
   "id": "5132e367",
   "metadata": {
    "papermill": {
     "duration": 0.017129,
     "end_time": "2023-06-21T12:28:45.808169",
     "exception": false,
     "start_time": "2023-06-21T12:28:45.791040",
     "status": "completed"
    },
    "tags": []
   },
   "source": [
    "## Split data in training, validation and tesing sets"
   ]
  },
  {
   "cell_type": "code",
   "execution_count": 27,
   "id": "d8e8ac7a",
   "metadata": {
    "execution": {
     "iopub.execute_input": "2023-06-21T12:28:45.844922Z",
     "iopub.status.busy": "2023-06-21T12:28:45.844533Z",
     "iopub.status.idle": "2023-06-21T12:28:46.071168Z",
     "shell.execute_reply": "2023-06-21T12:28:46.070184Z"
    },
    "papermill": {
     "duration": 0.248117,
     "end_time": "2023-06-21T12:28:46.073669",
     "exception": false,
     "start_time": "2023-06-21T12:28:45.825552",
     "status": "completed"
    },
    "tags": []
   },
   "outputs": [],
   "source": [
    "# split entire data into training and testing sets\n",
    "TEST_SIZE = 0.15\n",
    "X_train, X_test, Y_train, Y_test = train_test_split(X, Y, test_size=TEST_SIZE, random_state=4)"
   ]
  },
  {
   "cell_type": "code",
   "execution_count": 28,
   "id": "7eb43b95",
   "metadata": {
    "execution": {
     "iopub.execute_input": "2023-06-21T12:28:46.111344Z",
     "iopub.status.busy": "2023-06-21T12:28:46.110916Z",
     "iopub.status.idle": "2023-06-21T12:28:46.298495Z",
     "shell.execute_reply": "2023-06-21T12:28:46.297361Z"
    },
    "papermill": {
     "duration": 0.209562,
     "end_time": "2023-06-21T12:28:46.301191",
     "exception": false,
     "start_time": "2023-06-21T12:28:46.091629",
     "status": "completed"
    },
    "tags": []
   },
   "outputs": [],
   "source": [
    "# split training data into training and validation sets\n",
    "VALID_SIZE = 0.15\n",
    "X_train, X_validation, Y_train, Y_validation = train_test_split(X_train, Y_train, test_size=VALID_SIZE, random_state=4)"
   ]
  },
  {
   "cell_type": "code",
   "execution_count": 29,
   "id": "1c5cd8ff",
   "metadata": {
    "execution": {
     "iopub.execute_input": "2023-06-21T12:28:46.338788Z",
     "iopub.status.busy": "2023-06-21T12:28:46.338350Z",
     "iopub.status.idle": "2023-06-21T12:28:46.345704Z",
     "shell.execute_reply": "2023-06-21T12:28:46.344593Z"
    },
    "papermill": {
     "duration": 0.028999,
     "end_time": "2023-06-21T12:28:46.348275",
     "exception": false,
     "start_time": "2023-06-21T12:28:46.319276",
     "status": "completed"
    },
    "tags": []
   },
   "outputs": [
    {
     "name": "stdout",
     "output_type": "stream",
     "text": [
      "TRAINING DATA\n",
      "Shape of input sequences: (52165, 100)\n",
      "Shape of output sequences: (52165, 100, 13)\n",
      "--------------------------------------------------\n",
      "VALIDATION DATA\n",
      "Shape of input sequences: (9206, 100)\n",
      "Shape of output sequences: (9206, 100, 13)\n",
      "--------------------------------------------------\n",
      "TESTING DATA\n",
      "Shape of input sequences: (10831, 100)\n",
      "Shape of output sequences: (10831, 100, 13)\n"
     ]
    }
   ],
   "source": [
    "# print number of samples in each set\n",
    "print(\"TRAINING DATA\")\n",
    "print('Shape of input sequences: {}'.format(X_train.shape))\n",
    "print('Shape of output sequences: {}'.format(Y_train.shape))\n",
    "print(\"-\"*50)\n",
    "print(\"VALIDATION DATA\")\n",
    "print('Shape of input sequences: {}'.format(X_validation.shape))\n",
    "print('Shape of output sequences: {}'.format(Y_validation.shape))\n",
    "print(\"-\"*50)\n",
    "print(\"TESTING DATA\")\n",
    "print('Shape of input sequences: {}'.format(X_test.shape))\n",
    "print('Shape of output sequences: {}'.format(Y_test.shape))"
   ]
  },
  {
   "cell_type": "markdown",
   "id": "175dfd50",
   "metadata": {
    "papermill": {
     "duration": 0.017675,
     "end_time": "2023-06-21T12:28:46.384350",
     "exception": false,
     "start_time": "2023-06-21T12:28:46.366675",
     "status": "completed"
    },
    "tags": []
   },
   "source": [
    "Before using RNN, we must make sure the dimensions of the data are what an RNN expects. In general, an RNN expects the following shape\n",
    "\n",
    "Shape of X: (#samples, #timesteps, #features)\n",
    "\n",
    "Shape of Y: (#samples, #timesteps, #features)\n",
    "\n",
    "![RNN tensor shape](./jupyter resources/rnn_tensor.png)\n",
    "\n",
    "Now, there can be various variations in the shape that you use to feed an RNN depending on the type of architecture. Since the problem we're working on has a many-to-many architecture, the input and the output both include number of timesteps which is nothing but the sequence length. But notice that the tensor X doesn't have the third dimension, that is, number of features. That's because we're going to use word embeddings before feeding in the data to an RNN, and hence there is no need to explicitly mention the third dimension. That's because when you use the Embedding() layer in Keras, you the training data will automatically be converted to (#samples, #timesteps, #features) where #features will be the embedding dimention (and note that the Embedding layer is always the very first layer of an RNN). While using the embedding layer we only need to reshape the data to (#samples, #timesteps) which is what we have done. However, note that you'll need to shape it to (#samples, #timesteps, #features) in case you don't use the Embedding() layer in Keras."
   ]
  },
  {
   "cell_type": "markdown",
   "id": "b99c4406",
   "metadata": {
    "papermill": {
     "duration": 0.017471,
     "end_time": "2023-06-21T12:28:46.419663",
     "exception": false,
     "start_time": "2023-06-21T12:28:46.402192",
     "status": "completed"
    },
    "tags": []
   },
   "source": [
    "we will try the following three RNN models:\n",
    "\n",
    "* RNN with arbitrarily initialised, untrainable embeddings: In this model, we will initialise the embedding weights arbitrarily. Further, we'll freeze the embeddings, that is, we won't allow the network to train them. \n",
    "* RNN with arbitrarily initialised, trainable embeddings: In this model, we'll allow the network to train the embeddings.\n",
    "* RNN with trainable word2vec embeddings: In this experiment, we'll use word2vec word embeddings and also allow the network to train them further.\n",
    " \n",
    "\n",
    "Let's start with the first experiment: an RNN with arbitrarily initialised, untrainable embeddings.\n",
    "\n",
    "\n",
    "# 1. Vanilla RNN\n",
    "\n",
    "**Uninitialised fixed embeddings**\n",
    "\n",
    "First let's try running a vanilla RNN. For this RNN we won't use the pre-trained word embeddings. We'll use randomly inititalised embeddings. Moreover, we won't update the embeddings weights."
   ]
  },
  {
   "cell_type": "code",
   "execution_count": 30,
   "id": "1ce74358",
   "metadata": {
    "execution": {
     "iopub.execute_input": "2023-06-21T12:28:46.458391Z",
     "iopub.status.busy": "2023-06-21T12:28:46.457967Z",
     "iopub.status.idle": "2023-06-21T12:28:46.462887Z",
     "shell.execute_reply": "2023-06-21T12:28:46.461798Z"
    },
    "papermill": {
     "duration": 0.026761,
     "end_time": "2023-06-21T12:28:46.465051",
     "exception": false,
     "start_time": "2023-06-21T12:28:46.438290",
     "status": "completed"
    },
    "tags": []
   },
   "outputs": [],
   "source": [
    "# total number of tags\n",
    "NUM_CLASSES = Y.shape[2]"
   ]
  },
  {
   "cell_type": "code",
   "execution_count": 31,
   "id": "295819eb",
   "metadata": {
    "execution": {
     "iopub.execute_input": "2023-06-21T12:28:46.504744Z",
     "iopub.status.busy": "2023-06-21T12:28:46.503972Z",
     "iopub.status.idle": "2023-06-21T12:28:46.956460Z",
     "shell.execute_reply": "2023-06-21T12:28:46.955459Z"
    },
    "papermill": {
     "duration": 0.475954,
     "end_time": "2023-06-21T12:28:46.958961",
     "exception": false,
     "start_time": "2023-06-21T12:28:46.483007",
     "status": "completed"
    },
    "tags": []
   },
   "outputs": [],
   "source": [
    "# create architecture\n",
    "\n",
    "rnn_model = Sequential()\n",
    "\n",
    "rnn_model.add(Embedding(input_dim     =  VOCABULARY_SIZE,         # vocabulary size - number of unique words in data\n",
    "                        output_dim    =  EMBEDDING_SIZE,          # length of vector with which each word is represented\n",
    "                        input_length  =  MAX_SEQ_LENGTH,          # length of input sequence\n",
    "                        trainable     =  False                    # False - don't update the embeddings\n",
    "))\n",
    "\n",
    "# add an RNN layer which contains 64 RNN cells\n",
    "rnn_model.add(SimpleRNN(64, \n",
    "              return_sequences=True  # True - return whole sequence; False - return single output of the end of the sequence\n",
    "))\n",
    "\n",
    "# add time distributed (output at each sequence) layer\n",
    "rnn_model.add(TimeDistributed(Dense(NUM_CLASSES, activation='softmax')))"
   ]
  },
  {
   "cell_type": "markdown",
   "id": "4e75f54c",
   "metadata": {
    "papermill": {
     "duration": 0.017339,
     "end_time": "2023-06-21T12:28:46.994024",
     "exception": false,
     "start_time": "2023-06-21T12:28:46.976685",
     "status": "completed"
    },
    "tags": []
   },
   "source": [
    "# Compile model"
   ]
  },
  {
   "cell_type": "code",
   "execution_count": 32,
   "id": "646dd396",
   "metadata": {
    "execution": {
     "iopub.execute_input": "2023-06-21T12:28:47.031773Z",
     "iopub.status.busy": "2023-06-21T12:28:47.031185Z",
     "iopub.status.idle": "2023-06-21T12:28:47.051139Z",
     "shell.execute_reply": "2023-06-21T12:28:47.050295Z"
    },
    "papermill": {
     "duration": 0.041433,
     "end_time": "2023-06-21T12:28:47.053492",
     "exception": false,
     "start_time": "2023-06-21T12:28:47.012059",
     "status": "completed"
    },
    "tags": []
   },
   "outputs": [],
   "source": [
    "rnn_model.compile(loss      =  'categorical_crossentropy',\n",
    "                  optimizer =  'adam',\n",
    "                  metrics   =  ['acc'])"
   ]
  },
  {
   "cell_type": "code",
   "execution_count": 33,
   "id": "70e39c2f",
   "metadata": {
    "execution": {
     "iopub.execute_input": "2023-06-21T12:28:47.090963Z",
     "iopub.status.busy": "2023-06-21T12:28:47.090516Z",
     "iopub.status.idle": "2023-06-21T12:28:47.114291Z",
     "shell.execute_reply": "2023-06-21T12:28:47.112930Z"
    },
    "papermill": {
     "duration": 0.045395,
     "end_time": "2023-06-21T12:28:47.116776",
     "exception": false,
     "start_time": "2023-06-21T12:28:47.071381",
     "status": "completed"
    },
    "tags": []
   },
   "outputs": [
    {
     "name": "stdout",
     "output_type": "stream",
     "text": [
      "Model: \"sequential\"\n",
      "_________________________________________________________________\n",
      " Layer (type)                Output Shape              Param #   \n",
      "=================================================================\n",
      " embedding (Embedding)       (None, 100, 300)          17834700  \n",
      "                                                                 \n",
      " simple_rnn (SimpleRNN)      (None, 100, 64)           23360     \n",
      "                                                                 \n",
      " time_distributed (TimeDistr  (None, 100, 13)          845       \n",
      " ibuted)                                                         \n",
      "                                                                 \n",
      "=================================================================\n",
      "Total params: 17,858,905\n",
      "Trainable params: 24,205\n",
      "Non-trainable params: 17,834,700\n",
      "_________________________________________________________________\n"
     ]
    }
   ],
   "source": [
    "# check summary of the model\n",
    "rnn_model.summary()"
   ]
  },
  {
   "cell_type": "markdown",
   "id": "17f7880e",
   "metadata": {
    "papermill": {
     "duration": 0.018613,
     "end_time": "2023-06-21T12:28:47.154416",
     "exception": false,
     "start_time": "2023-06-21T12:28:47.135803",
     "status": "completed"
    },
    "tags": []
   },
   "source": [
    "# Fit model"
   ]
  },
  {
   "cell_type": "code",
   "execution_count": 34,
   "id": "17da993e",
   "metadata": {
    "execution": {
     "iopub.execute_input": "2023-06-21T12:28:47.193687Z",
     "iopub.status.busy": "2023-06-21T12:28:47.193282Z",
     "iopub.status.idle": "2023-06-21T12:34:11.167541Z",
     "shell.execute_reply": "2023-06-21T12:34:11.165495Z"
    },
    "papermill": {
     "duration": 323.997836,
     "end_time": "2023-06-21T12:34:11.170980",
     "exception": false,
     "start_time": "2023-06-21T12:28:47.173144",
     "status": "completed"
    },
    "tags": []
   },
   "outputs": [
    {
     "name": "stdout",
     "output_type": "stream",
     "text": [
      "Epoch 1/10\n",
      "408/408 [==============================] - 33s 76ms/step - loss: 0.5051 - acc: 0.8540 - val_loss: 0.3397 - val_acc: 0.8999\n",
      "Epoch 2/10\n",
      "408/408 [==============================] - 28s 68ms/step - loss: 0.2804 - acc: 0.9164 - val_loss: 0.2351 - val_acc: 0.9285\n",
      "Epoch 3/10\n",
      "408/408 [==============================] - 28s 70ms/step - loss: 0.2127 - acc: 0.9349 - val_loss: 0.1923 - val_acc: 0.9401\n",
      "Epoch 4/10\n",
      "408/408 [==============================] - 28s 69ms/step - loss: 0.1816 - acc: 0.9428 - val_loss: 0.1694 - val_acc: 0.9460\n",
      "Epoch 5/10\n",
      "408/408 [==============================] - 29s 70ms/step - loss: 0.1627 - acc: 0.9479 - val_loss: 0.1541 - val_acc: 0.9500\n",
      "Epoch 6/10\n",
      "408/408 [==============================] - 29s 70ms/step - loss: 0.1497 - acc: 0.9515 - val_loss: 0.1435 - val_acc: 0.9533\n",
      "Epoch 7/10\n",
      "408/408 [==============================] - 29s 71ms/step - loss: 0.1405 - acc: 0.9541 - val_loss: 0.1359 - val_acc: 0.9552\n",
      "Epoch 8/10\n",
      "408/408 [==============================] - 29s 71ms/step - loss: 0.1340 - acc: 0.9558 - val_loss: 0.1302 - val_acc: 0.9566\n",
      "Epoch 9/10\n",
      "408/408 [==============================] - 29s 71ms/step - loss: 0.1290 - acc: 0.9571 - val_loss: 0.1262 - val_acc: 0.9579\n",
      "Epoch 10/10\n",
      "408/408 [==============================] - 29s 71ms/step - loss: 0.1253 - acc: 0.9580 - val_loss: 0.1231 - val_acc: 0.9584\n"
     ]
    }
   ],
   "source": [
    "rnn_training = rnn_model.fit(X_train, Y_train, batch_size=128, epochs=10, validation_data=(X_validation, Y_validation))"
   ]
  },
  {
   "cell_type": "code",
   "execution_count": 35,
   "id": "fe3d024f",
   "metadata": {
    "execution": {
     "iopub.execute_input": "2023-06-21T12:34:11.729426Z",
     "iopub.status.busy": "2023-06-21T12:34:11.728933Z",
     "iopub.status.idle": "2023-06-21T12:34:11.985030Z",
     "shell.execute_reply": "2023-06-21T12:34:11.984240Z"
    },
    "papermill": {
     "duration": 0.541568,
     "end_time": "2023-06-21T12:34:11.987372",
     "exception": false,
     "start_time": "2023-06-21T12:34:11.445804",
     "status": "completed"
    },
    "tags": []
   },
   "outputs": [
    {
     "data": {
      "image/png": "[encoded data removed]",
      "text/plain": [
       "<Figure size 640x480 with 1 Axes>"
      ]
     },
     "metadata": {},
     "output_type": "display_data"
    }
   ],
   "source": [
    "# visualise training history\n",
    "plt.plot(rnn_training.history['acc'])\n",
    "plt.plot(rnn_training.history['val_acc'])\n",
    "plt.title('model accuracy')\n",
    "plt.ylabel('accuracy')\n",
    "plt.xlabel('epoch')\n",
    "plt.legend(['train', 'test'], loc=\"lower right\")\n",
    "plt.show()"
   ]
  },
  {
   "cell_type": "markdown",
   "id": "70359fa4",
   "metadata": {
    "papermill": {
     "duration": 0.269315,
     "end_time": "2023-06-21T12:34:12.533446",
     "exception": false,
     "start_time": "2023-06-21T12:34:12.264131",
     "status": "completed"
    },
    "tags": []
   },
   "source": [
    "# 2. Uninitialised trainable embeddings"
   ]
  },
  {
   "cell_type": "code",
   "execution_count": 36,
   "id": "140a4c41",
   "metadata": {
    "execution": {
     "iopub.execute_input": "2023-06-21T12:34:13.155056Z",
     "iopub.status.busy": "2023-06-21T12:34:13.154223Z",
     "iopub.status.idle": "2023-06-21T12:34:13.469353Z",
     "shell.execute_reply": "2023-06-21T12:34:13.468040Z"
    },
    "papermill": {
     "duration": 0.592291,
     "end_time": "2023-06-21T12:34:13.472504",
     "exception": false,
     "start_time": "2023-06-21T12:34:12.880213",
     "status": "completed"
    },
    "tags": []
   },
   "outputs": [],
   "source": [
    "# create architecture\n",
    "\n",
    "rnn_model = Sequential()\n",
    "\n",
    "rnn_model.add(Embedding(input_dim     =  VOCABULARY_SIZE,         # vocabulary size - number of unique words in data\n",
    "                        output_dim    =  EMBEDDING_SIZE,          # length of vector with which each word is represented\n",
    "                        input_length  =  MAX_SEQ_LENGTH,          # length of input sequence\n",
    "                        trainable     =  True                    # True - update the embeddings\n",
    "))\n",
    "\n",
    "# add an RNN layer which contains 64 RNN cells\n",
    "rnn_model.add(SimpleRNN(64, \n",
    "              return_sequences=True  # True - return whole sequence; False - return single output of the end of the sequence\n",
    "))\n",
    "\n",
    "# add time distributed (output at each sequence) layer\n",
    "rnn_model.add(TimeDistributed(Dense(NUM_CLASSES, activation='softmax')))"
   ]
  },
  {
   "cell_type": "code",
   "execution_count": 37,
   "id": "176694d5",
   "metadata": {
    "execution": {
     "iopub.execute_input": "2023-06-21T12:34:14.017137Z",
     "iopub.status.busy": "2023-06-21T12:34:14.016436Z",
     "iopub.status.idle": "2023-06-21T12:34:14.029596Z",
     "shell.execute_reply": "2023-06-21T12:34:14.028755Z"
    },
    "papermill": {
     "duration": 0.286133,
     "end_time": "2023-06-21T12:34:14.032046",
     "exception": false,
     "start_time": "2023-06-21T12:34:13.745913",
     "status": "completed"
    },
    "tags": []
   },
   "outputs": [],
   "source": [
    "rnn_model.compile(loss      =  'categorical_crossentropy',\n",
    "                  optimizer =  'adam',\n",
    "                  metrics   =  ['acc'])"
   ]
  },
  {
   "cell_type": "code",
   "execution_count": 38,
   "id": "027d0220",
   "metadata": {
    "execution": {
     "iopub.execute_input": "2023-06-21T12:34:14.580499Z",
     "iopub.status.busy": "2023-06-21T12:34:14.579757Z",
     "iopub.status.idle": "2023-06-21T12:34:14.602199Z",
     "shell.execute_reply": "2023-06-21T12:34:14.600763Z"
    },
    "papermill": {
     "duration": 0.300411,
     "end_time": "2023-06-21T12:34:14.604319",
     "exception": false,
     "start_time": "2023-06-21T12:34:14.303908",
     "status": "completed"
    },
    "tags": []
   },
   "outputs": [
    {
     "name": "stdout",
     "output_type": "stream",
     "text": [
      "Model: \"sequential_1\"\n",
      "_________________________________________________________________\n",
      " Layer (type)                Output Shape              Param #   \n",
      "=================================================================\n",
      " embedding_1 (Embedding)     (None, 100, 300)          17834700  \n",
      "                                                                 \n",
      " simple_rnn_1 (SimpleRNN)    (None, 100, 64)           23360     \n",
      "                                                                 \n",
      " time_distributed_1 (TimeDis  (None, 100, 13)          845       \n",
      " tributed)                                                       \n",
      "                                                                 \n",
      "=================================================================\n",
      "Total params: 17,858,905\n",
      "Trainable params: 17,858,905\n",
      "Non-trainable params: 0\n",
      "_________________________________________________________________\n"
     ]
    }
   ],
   "source": [
    "# check summary of the model\n",
    "rnn_model.summary()"
   ]
  },
  {
   "cell_type": "code",
   "execution_count": 39,
   "id": "e30c85bc",
   "metadata": {
    "execution": {
     "iopub.execute_input": "2023-06-21T12:34:15.153577Z",
     "iopub.status.busy": "2023-06-21T12:34:15.152737Z",
     "iopub.status.idle": "2023-06-21T12:58:39.303503Z",
     "shell.execute_reply": "2023-06-21T12:58:39.302266Z"
    },
    "papermill": {
     "duration": 1464.430623,
     "end_time": "2023-06-21T12:58:39.306271",
     "exception": false,
     "start_time": "2023-06-21T12:34:14.875648",
     "status": "completed"
    },
    "tags": []
   },
   "outputs": [
    {
     "name": "stdout",
     "output_type": "stream",
     "text": [
      "Epoch 1/10\n",
      "408/408 [==============================] - 149s 361ms/step - loss: 0.2091 - acc: 0.9504 - val_loss: 0.0411 - val_acc: 0.9877\n",
      "Epoch 2/10\n",
      "408/408 [==============================] - 146s 358ms/step - loss: 0.0299 - acc: 0.9904 - val_loss: 0.0296 - val_acc: 0.9897\n",
      "Epoch 3/10\n",
      "408/408 [==============================] - 144s 353ms/step - loss: 0.0208 - acc: 0.9928 - val_loss: 0.0277 - val_acc: 0.9901\n",
      "Epoch 4/10\n",
      "408/408 [==============================] - 144s 354ms/step - loss: 0.0173 - acc: 0.9939 - val_loss: 0.0271 - val_acc: 0.9904\n",
      "Epoch 5/10\n",
      "408/408 [==============================] - 145s 355ms/step - loss: 0.0148 - acc: 0.9948 - val_loss: 0.0275 - val_acc: 0.9904\n",
      "Epoch 6/10\n",
      "408/408 [==============================] - 145s 355ms/step - loss: 0.0126 - acc: 0.9957 - val_loss: 0.0288 - val_acc: 0.9903\n",
      "Epoch 7/10\n",
      "408/408 [==============================] - 145s 355ms/step - loss: 0.0106 - acc: 0.9964 - val_loss: 0.0305 - val_acc: 0.9899\n",
      "Epoch 8/10\n",
      "408/408 [==============================] - 146s 358ms/step - loss: 0.0088 - acc: 0.9971 - val_loss: 0.0324 - val_acc: 0.9896\n",
      "Epoch 9/10\n",
      "408/408 [==============================] - 146s 358ms/step - loss: 0.0073 - acc: 0.9977 - val_loss: 0.0349 - val_acc: 0.9894\n",
      "Epoch 10/10\n",
      "408/408 [==============================] - 146s 357ms/step - loss: 0.0061 - acc: 0.9981 - val_loss: 0.0376 - val_acc: 0.9890\n"
     ]
    }
   ],
   "source": [
    "rnn_training = rnn_model.fit(X_train, Y_train, batch_size=128, epochs=10, validation_data=(X_validation, Y_validation))"
   ]
  },
  {
   "cell_type": "code",
   "execution_count": 40,
   "id": "9ecd6d61",
   "metadata": {
    "execution": {
     "iopub.execute_input": "2023-06-21T12:58:40.403706Z",
     "iopub.status.busy": "2023-06-21T12:58:40.403105Z",
     "iopub.status.idle": "2023-06-21T12:58:40.649531Z",
     "shell.execute_reply": "2023-06-21T12:58:40.648272Z"
    },
    "papermill": {
     "duration": 0.802276,
     "end_time": "2023-06-21T12:58:40.652222",
     "exception": false,
     "start_time": "2023-06-21T12:58:39.849946",
     "status": "completed"
    },
    "tags": []
   },
   "outputs": [
    {
     "data": {
      "image/png": "[encoded data removed]",
      "text/plain": [
       "<Figure size 640x480 with 1 Axes>"
      ]
     },
     "metadata": {},
     "output_type": "display_data"
    }
   ],
   "source": [
    "# visualise training history\n",
    "plt.plot(rnn_training.history['acc'])\n",
    "plt.plot(rnn_training.history['val_acc'])\n",
    "plt.title('model accuracy')\n",
    "plt.ylabel('accuracy')\n",
    "plt.xlabel('epoch')\n",
    "plt.legend(['train', 'test'], loc=\"lower right\")\n",
    "plt.show()"
   ]
  },
  {
   "cell_type": "markdown",
   "id": "8e27c253",
   "metadata": {
    "papermill": {
     "duration": 0.610082,
     "end_time": "2023-06-21T12:58:41.794275",
     "exception": false,
     "start_time": "2023-06-21T12:58:41.184193",
     "status": "completed"
    },
    "tags": []
   },
   "source": [
    "# Using pre-trained embedding weights"
   ]
  },
  {
   "cell_type": "code",
   "execution_count": 41,
   "id": "d040841f",
   "metadata": {
    "execution": {
     "iopub.execute_input": "2023-06-21T12:58:42.873714Z",
     "iopub.status.busy": "2023-06-21T12:58:42.873151Z",
     "iopub.status.idle": "2023-06-21T12:58:43.245345Z",
     "shell.execute_reply": "2023-06-21T12:58:43.244262Z"
    },
    "papermill": {
     "duration": 0.912811,
     "end_time": "2023-06-21T12:58:43.247939",
     "exception": false,
     "start_time": "2023-06-21T12:58:42.335128",
     "status": "completed"
    },
    "tags": []
   },
   "outputs": [],
   "source": [
    "# create architecture\n",
    "\n",
    "rnn_model = Sequential()\n",
    "\n",
    "rnn_model.add(Embedding(input_dim     =  VOCABULARY_SIZE,         # vocabulary size - number of unique words in data\n",
    "                        output_dim    =  EMBEDDING_SIZE,          # length of vector with which each word is represented\n",
    "                        input_length  =  MAX_SEQ_LENGTH,          # length of input sequence\n",
    "                        weights       = [embedding_weights],      # word embedding matrix\n",
    "                        trainable     =  True                    # True - update the embeddings\n",
    "))\n",
    "\n",
    "# add an RNN layer which contains 64 RNN cells\n",
    "rnn_model.add(SimpleRNN(64, \n",
    "              return_sequences=True  # True - return whole sequence; False - return single output of the end of the sequence\n",
    "))\n",
    "\n",
    "# add time distributed (output at each sequence) layer\n",
    "rnn_model.add(TimeDistributed(Dense(NUM_CLASSES, activation='softmax')))"
   ]
  },
  {
   "cell_type": "markdown",
   "id": "ae9f87cc",
   "metadata": {
    "papermill": {
     "duration": 0.523454,
     "end_time": "2023-06-21T12:58:44.375989",
     "exception": false,
     "start_time": "2023-06-21T12:58:43.852535",
     "status": "completed"
    },
    "tags": []
   },
   "source": [
    "## Compile Model"
   ]
  },
  {
   "cell_type": "code",
   "execution_count": 42,
   "id": "afa538d1",
   "metadata": {
    "execution": {
     "iopub.execute_input": "2023-06-21T12:58:45.438663Z",
     "iopub.status.busy": "2023-06-21T12:58:45.437890Z",
     "iopub.status.idle": "2023-06-21T12:58:45.451031Z",
     "shell.execute_reply": "2023-06-21T12:58:45.450040Z"
    },
    "papermill": {
     "duration": 0.547189,
     "end_time": "2023-06-21T12:58:45.453630",
     "exception": false,
     "start_time": "2023-06-21T12:58:44.906441",
     "status": "completed"
    },
    "tags": []
   },
   "outputs": [],
   "source": [
    "rnn_model.compile(loss      =  'categorical_crossentropy',\n",
    "                  optimizer =  'adam',\n",
    "                  metrics   =  ['acc'])"
   ]
  },
  {
   "cell_type": "code",
   "execution_count": 43,
   "id": "39b8caf9",
   "metadata": {
    "execution": {
     "iopub.execute_input": "2023-06-21T12:58:46.588993Z",
     "iopub.status.busy": "2023-06-21T12:58:46.587962Z",
     "iopub.status.idle": "2023-06-21T12:58:46.610826Z",
     "shell.execute_reply": "2023-06-21T12:58:46.609648Z"
    },
    "papermill": {
     "duration": 0.55523,
     "end_time": "2023-06-21T12:58:46.613328",
     "exception": false,
     "start_time": "2023-06-21T12:58:46.058098",
     "status": "completed"
    },
    "tags": []
   },
   "outputs": [
    {
     "name": "stdout",
     "output_type": "stream",
     "text": [
      "Model: \"sequential_2\"\n",
      "_________________________________________________________________\n",
      " Layer (type)                Output Shape              Param #   \n",
      "=================================================================\n",
      " embedding_2 (Embedding)     (None, 100, 300)          17834700  \n",
      "                                                                 \n",
      " simple_rnn_2 (SimpleRNN)    (None, 100, 64)           23360     \n",
      "                                                                 \n",
      " time_distributed_2 (TimeDis  (None, 100, 13)          845       \n",
      " tributed)                                                       \n",
      "                                                                 \n",
      "=================================================================\n",
      "Total params: 17,858,905\n",
      "Trainable params: 17,858,905\n",
      "Non-trainable params: 0\n",
      "_________________________________________________________________\n"
     ]
    }
   ],
   "source": [
    "# check summary of the model\n",
    "rnn_model.summary()"
   ]
  },
  {
   "cell_type": "markdown",
   "id": "c198207b",
   "metadata": {
    "papermill": {
     "duration": 0.607517,
     "end_time": "2023-06-21T12:58:47.750247",
     "exception": false,
     "start_time": "2023-06-21T12:58:47.142730",
     "status": "completed"
    },
    "tags": []
   },
   "source": [
    "## Fit Model"
   ]
  },
  {
   "cell_type": "code",
   "execution_count": 44,
   "id": "1107e5c1",
   "metadata": {
    "execution": {
     "iopub.execute_input": "2023-06-21T12:58:48.798041Z",
     "iopub.status.busy": "2023-06-21T12:58:48.797640Z",
     "iopub.status.idle": "2023-06-21T13:23:14.816203Z",
     "shell.execute_reply": "2023-06-21T13:23:14.815214Z"
    },
    "papermill": {
     "duration": 1466.547644,
     "end_time": "2023-06-21T13:23:14.818478",
     "exception": false,
     "start_time": "2023-06-21T12:58:48.270834",
     "status": "completed"
    },
    "tags": []
   },
   "outputs": [
    {
     "name": "stdout",
     "output_type": "stream",
     "text": [
      "Epoch 1/10\n",
      "408/408 [==============================] - 147s 356ms/step - loss: 0.1778 - acc: 0.9613 - val_loss: 0.0353 - val_acc: 0.9890\n",
      "Epoch 2/10\n",
      "408/408 [==============================] - 146s 357ms/step - loss: 0.0269 - acc: 0.9910 - val_loss: 0.0271 - val_acc: 0.9905\n",
      "Epoch 3/10\n",
      "408/408 [==============================] - 146s 358ms/step - loss: 0.0198 - acc: 0.9930 - val_loss: 0.0255 - val_acc: 0.9910\n",
      "Epoch 4/10\n",
      "408/408 [==============================] - 145s 356ms/step - loss: 0.0169 - acc: 0.9940 - val_loss: 0.0250 - val_acc: 0.9912\n",
      "Epoch 5/10\n",
      "408/408 [==============================] - 147s 359ms/step - loss: 0.0148 - acc: 0.9947 - val_loss: 0.0250 - val_acc: 0.9913\n",
      "Epoch 6/10\n",
      "408/408 [==============================] - 147s 361ms/step - loss: 0.0130 - acc: 0.9954 - val_loss: 0.0257 - val_acc: 0.9912\n",
      "Epoch 7/10\n",
      "408/408 [==============================] - 147s 359ms/step - loss: 0.0114 - acc: 0.9960 - val_loss: 0.0265 - val_acc: 0.9911\n",
      "Epoch 8/10\n",
      "408/408 [==============================] - 147s 361ms/step - loss: 0.0099 - acc: 0.9966 - val_loss: 0.0277 - val_acc: 0.9909\n",
      "Epoch 9/10\n",
      "408/408 [==============================] - 148s 362ms/step - loss: 0.0086 - acc: 0.9971 - val_loss: 0.0293 - val_acc: 0.9906\n",
      "Epoch 10/10\n",
      "408/408 [==============================] - 146s 358ms/step - loss: 0.0073 - acc: 0.9976 - val_loss: 0.0310 - val_acc: 0.9906\n"
     ]
    }
   ],
   "source": [
    "rnn_training = rnn_model.fit(X_train, Y_train, batch_size=128, epochs=10, validation_data=(X_validation, Y_validation))"
   ]
  },
  {
   "cell_type": "code",
   "execution_count": 45,
   "id": "a4c91c6a",
   "metadata": {
    "execution": {
     "iopub.execute_input": "2023-06-21T13:23:16.475896Z",
     "iopub.status.busy": "2023-06-21T13:23:16.475154Z",
     "iopub.status.idle": "2023-06-21T13:23:16.733190Z",
     "shell.execute_reply": "2023-06-21T13:23:16.732018Z"
    },
    "papermill": {
     "duration": 1.130245,
     "end_time": "2023-06-21T13:23:16.735701",
     "exception": false,
     "start_time": "2023-06-21T13:23:15.605456",
     "status": "completed"
    },
    "tags": []
   },
   "outputs": [
    {
     "data": {
      "image/png": "[encoded data removed]",
      "text/plain": [
       "<Figure size 640x480 with 1 Axes>"
      ]
     },
     "metadata": {},
     "output_type": "display_data"
    }
   ],
   "source": [
    "# visualise training history\n",
    "plt.plot(rnn_training.history['acc'])\n",
    "plt.plot(rnn_training.history['val_acc'])\n",
    "plt.title('model accuracy')\n",
    "plt.ylabel('accuracy')\n",
    "plt.xlabel('epoch')\n",
    "plt.legend(['train', 'test'], loc=\"lower right\")\n",
    "plt.show()"
   ]
  },
  {
   "cell_type": "markdown",
   "id": "41a84e5a",
   "metadata": {
    "papermill": {
     "duration": 0.861463,
     "end_time": "2023-06-21T13:23:18.385441",
     "exception": false,
     "start_time": "2023-06-21T13:23:17.523978",
     "status": "completed"
    },
    "tags": []
   },
   "source": [
    "# 2. LSTM Model"
   ]
  },
  {
   "cell_type": "code",
   "execution_count": 46,
   "id": "0f0757a1",
   "metadata": {
    "execution": {
     "iopub.execute_input": "2023-06-21T13:23:20.070027Z",
     "iopub.status.busy": "2023-06-21T13:23:20.069128Z",
     "iopub.status.idle": "2023-06-21T13:23:20.650040Z",
     "shell.execute_reply": "2023-06-21T13:23:20.648930Z"
    },
    "papermill": {
     "duration": 1.46211,
     "end_time": "2023-06-21T13:23:20.652652",
     "exception": false,
     "start_time": "2023-06-21T13:23:19.190542",
     "status": "completed"
    },
    "tags": []
   },
   "outputs": [],
   "source": [
    "# create architecture\n",
    "\n",
    "lstm_model = Sequential()\n",
    "\n",
    "lstm_model.add(Embedding(input_dim     =  VOCABULARY_SIZE,         # vocabulary size - number of unique words in data\n",
    "                        output_dim    =  EMBEDDING_SIZE,          # length of vector with which each word is represented\n",
    "                        input_length  =  MAX_SEQ_LENGTH,          # length of input sequence\n",
    "                        weights       = [embedding_weights],      # word embedding matrix\n",
    "                        trainable     =  True                    # True - update the embeddings\n",
    "))\n",
    "\n",
    "# add an RNN layer which contains 64 RNN cells\n",
    "lstm_model.add(LSTM(64, return_sequences=True))\n",
    "\n",
    "# add time distributed (output at each sequence) layer\n",
    "lstm_model.add(TimeDistributed(Dense(NUM_CLASSES, activation='softmax')))"
   ]
  },
  {
   "cell_type": "markdown",
   "id": "f5e91cf6",
   "metadata": {
    "papermill": {
     "duration": 0.809776,
     "end_time": "2023-06-21T13:23:22.249155",
     "exception": false,
     "start_time": "2023-06-21T13:23:21.439379",
     "status": "completed"
    },
    "tags": []
   },
   "source": [
    "# Compile Model"
   ]
  },
  {
   "cell_type": "code",
   "execution_count": 47,
   "id": "180b6edf",
   "metadata": {
    "execution": {
     "iopub.execute_input": "2023-06-21T13:23:23.956506Z",
     "iopub.status.busy": "2023-06-21T13:23:23.956100Z",
     "iopub.status.idle": "2023-06-21T13:23:23.970234Z",
     "shell.execute_reply": "2023-06-21T13:23:23.969083Z"
    },
    "papermill": {
     "duration": 0.803797,
     "end_time": "2023-06-21T13:23:23.972868",
     "exception": false,
     "start_time": "2023-06-21T13:23:23.169071",
     "status": "completed"
    },
    "tags": []
   },
   "outputs": [],
   "source": [
    "lstm_model.compile(loss      =  'categorical_crossentropy',\n",
    "                  optimizer =  'adam',\n",
    "                  metrics   =  ['acc'])"
   ]
  },
  {
   "cell_type": "code",
   "execution_count": 48,
   "id": "18573ac5",
   "metadata": {
    "execution": {
     "iopub.execute_input": "2023-06-21T13:23:25.713513Z",
     "iopub.status.busy": "2023-06-21T13:23:25.712265Z",
     "iopub.status.idle": "2023-06-21T13:23:25.736462Z",
     "shell.execute_reply": "2023-06-21T13:23:25.735276Z"
    },
    "papermill": {
     "duration": 0.900828,
     "end_time": "2023-06-21T13:23:25.740114",
     "exception": false,
     "start_time": "2023-06-21T13:23:24.839286",
     "status": "completed"
    },
    "tags": []
   },
   "outputs": [
    {
     "name": "stdout",
     "output_type": "stream",
     "text": [
      "Model: \"sequential_3\"\n",
      "_________________________________________________________________\n",
      " Layer (type)                Output Shape              Param #   \n",
      "=================================================================\n",
      " embedding_3 (Embedding)     (None, 100, 300)          17834700  \n",
      "                                                                 \n",
      " lstm (LSTM)                 (None, 100, 64)           93440     \n",
      "                                                                 \n",
      " time_distributed_3 (TimeDis  (None, 100, 13)          845       \n",
      " tributed)                                                       \n",
      "                                                                 \n",
      "=================================================================\n",
      "Total params: 17,928,985\n",
      "Trainable params: 17,928,985\n",
      "Non-trainable params: 0\n",
      "_________________________________________________________________\n"
     ]
    }
   ],
   "source": [
    "lstm_model.summary()"
   ]
  },
  {
   "cell_type": "code",
   "execution_count": 49,
   "id": "6459e711",
   "metadata": {
    "execution": {
     "iopub.execute_input": "2023-06-21T13:23:27.319749Z",
     "iopub.status.busy": "2023-06-21T13:23:27.319342Z",
     "iopub.status.idle": "2023-06-21T13:53:52.133434Z",
     "shell.execute_reply": "2023-06-21T13:53:52.132130Z"
    },
    "papermill": {
     "duration": 1825.607002,
     "end_time": "2023-06-21T13:53:52.136351",
     "exception": false,
     "start_time": "2023-06-21T13:23:26.529349",
     "status": "completed"
    },
    "tags": []
   },
   "outputs": [
    {
     "name": "stdout",
     "output_type": "stream",
     "text": [
      "Epoch 1/10\n",
      "408/408 [==============================] - 184s 444ms/step - loss: 0.3101 - acc: 0.9293 - val_loss: 0.0483 - val_acc: 0.9875\n",
      "Epoch 2/10\n",
      "408/408 [==============================] - 181s 445ms/step - loss: 0.0340 - acc: 0.9897 - val_loss: 0.0296 - val_acc: 0.9900\n",
      "Epoch 3/10\n",
      "408/408 [==============================] - 181s 443ms/step - loss: 0.0235 - acc: 0.9919 - val_loss: 0.0262 - val_acc: 0.9906\n",
      "Epoch 4/10\n",
      "408/408 [==============================] - 181s 444ms/step - loss: 0.0200 - acc: 0.9928 - val_loss: 0.0250 - val_acc: 0.9909\n",
      "Epoch 5/10\n",
      "408/408 [==============================] - 180s 442ms/step - loss: 0.0179 - acc: 0.9935 - val_loss: 0.0243 - val_acc: 0.9912\n",
      "Epoch 6/10\n",
      "408/408 [==============================] - 180s 442ms/step - loss: 0.0164 - acc: 0.9940 - val_loss: 0.0240 - val_acc: 0.9914\n",
      "Epoch 7/10\n",
      "408/408 [==============================] - 179s 439ms/step - loss: 0.0150 - acc: 0.9945 - val_loss: 0.0238 - val_acc: 0.9915\n",
      "Epoch 8/10\n",
      "408/408 [==============================] - 179s 439ms/step - loss: 0.0136 - acc: 0.9950 - val_loss: 0.0240 - val_acc: 0.9916\n",
      "Epoch 9/10\n",
      "408/408 [==============================] - 179s 439ms/step - loss: 0.0123 - acc: 0.9956 - val_loss: 0.0244 - val_acc: 0.9916\n",
      "Epoch 10/10\n",
      "408/408 [==============================] - 178s 435ms/step - loss: 0.0110 - acc: 0.9961 - val_loss: 0.0251 - val_acc: 0.9916\n"
     ]
    }
   ],
   "source": [
    "lstm_training = lstm_model.fit(X_train, Y_train, batch_size=128, epochs=10, validation_data=(X_validation, Y_validation))"
   ]
  },
  {
   "cell_type": "code",
   "execution_count": 50,
   "id": "385e0920",
   "metadata": {
    "execution": {
     "iopub.execute_input": "2023-06-21T13:53:54.317338Z",
     "iopub.status.busy": "2023-06-21T13:53:54.316419Z",
     "iopub.status.idle": "2023-06-21T13:53:54.561483Z",
     "shell.execute_reply": "2023-06-21T13:53:54.560252Z"
    },
    "papermill": {
     "duration": 1.285912,
     "end_time": "2023-06-21T13:53:54.563787",
     "exception": false,
     "start_time": "2023-06-21T13:53:53.277875",
     "status": "completed"
    },
    "tags": []
   },
   "outputs": [
    {
     "data": {
      "image/png": "[encoded data removed]",
      "text/plain": [
       "<Figure size 640x480 with 1 Axes>"
      ]
     },
     "metadata": {},
     "output_type": "display_data"
    }
   ],
   "source": [
    "# visualise training history\n",
    "plt.plot(lstm_training.history['acc'])\n",
    "plt.plot(lstm_training.history['val_acc'])\n",
    "plt.title('model accuracy')\n",
    "plt.ylabel('accuracy')\n",
    "plt.xlabel('epoch')\n",
    "plt.legend(['train', 'test'], loc=\"lower right\")\n",
    "plt.show()"
   ]
  },
  {
   "cell_type": "markdown",
   "id": "677919c0",
   "metadata": {
    "papermill": {
     "duration": 1.116448,
     "end_time": "2023-06-21T13:53:56.718926",
     "exception": false,
     "start_time": "2023-06-21T13:53:55.602478",
     "status": "completed"
    },
    "tags": []
   },
   "source": [
    "# 3. GRU Model"
   ]
  },
  {
   "cell_type": "code",
   "execution_count": 51,
   "id": "2614a48f",
   "metadata": {
    "execution": {
     "iopub.execute_input": "2023-06-21T13:53:58.908948Z",
     "iopub.status.busy": "2023-06-21T13:53:58.908154Z",
     "iopub.status.idle": "2023-06-21T13:53:59.530745Z",
     "shell.execute_reply": "2023-06-21T13:53:59.529536Z"
    },
    "papermill": {
     "duration": 1.690142,
     "end_time": "2023-06-21T13:53:59.533316",
     "exception": false,
     "start_time": "2023-06-21T13:53:57.843174",
     "status": "completed"
    },
    "tags": []
   },
   "outputs": [],
   "source": [
    "# create architecture\n",
    "\n",
    "GRU_model = Sequential()\n",
    "\n",
    "GRU_model.add(Embedding(input_dim     =  VOCABULARY_SIZE,         # vocabulary size - number of unique words in data\n",
    "                        output_dim    =  EMBEDDING_SIZE,          # length of vector with which each word is represented\n",
    "                        input_length  =  MAX_SEQ_LENGTH,          # length of input sequence\n",
    "                        weights       = [embedding_weights],      # word embedding matrix\n",
    "                        trainable     =  True                    # True - update the embeddings\n",
    "))\n",
    "\n",
    "# add an RNN layer which contains 64 RNN cells\n",
    "GRU_model.add(GRU(64, return_sequences=True  # True - return whole sequence; False - return single output of the end of the sequence\n",
    "))\n",
    "\n",
    "# add time distributed (output at each sequence) layer\n",
    "GRU_model.add(TimeDistributed(Dense(NUM_CLASSES, activation='softmax')))"
   ]
  },
  {
   "cell_type": "code",
   "execution_count": 52,
   "id": "713a94c6",
   "metadata": {
    "execution": {
     "iopub.execute_input": "2023-06-21T13:54:01.699926Z",
     "iopub.status.busy": "2023-06-21T13:54:01.699513Z",
     "iopub.status.idle": "2023-06-21T13:54:01.713768Z",
     "shell.execute_reply": "2023-06-21T13:54:01.712937Z"
    },
    "papermill": {
     "duration": 1.042497,
     "end_time": "2023-06-21T13:54:01.716062",
     "exception": false,
     "start_time": "2023-06-21T13:54:00.673565",
     "status": "completed"
    },
    "tags": []
   },
   "outputs": [],
   "source": [
    "GRU_model.compile(loss      =  'categorical_crossentropy',\n",
    "                  optimizer =  'adam',\n",
    "                  metrics   =  ['acc'])"
   ]
  },
  {
   "cell_type": "code",
   "execution_count": 53,
   "id": "a12ea319",
   "metadata": {
    "execution": {
     "iopub.execute_input": "2023-06-21T13:54:03.964219Z",
     "iopub.status.busy": "2023-06-21T13:54:03.963359Z",
     "iopub.status.idle": "2023-06-21T13:54:03.984737Z",
     "shell.execute_reply": "2023-06-21T13:54:03.983477Z"
    },
    "papermill": {
     "duration": 1.158718,
     "end_time": "2023-06-21T13:54:03.989321",
     "exception": false,
     "start_time": "2023-06-21T13:54:02.830603",
     "status": "completed"
    },
    "tags": []
   },
   "outputs": [
    {
     "name": "stdout",
     "output_type": "stream",
     "text": [
      "Model: \"sequential_4\"\n",
      "_________________________________________________________________\n",
      " Layer (type)                Output Shape              Param #   \n",
      "=================================================================\n",
      " embedding_4 (Embedding)     (None, 100, 300)          17834700  \n",
      "                                                                 \n",
      " gru (GRU)                   (None, 100, 64)           70272     \n",
      "                                                                 \n",
      " time_distributed_4 (TimeDis  (None, 100, 13)          845       \n",
      " tributed)                                                       \n",
      "                                                                 \n",
      "=================================================================\n",
      "Total params: 17,905,817\n",
      "Trainable params: 17,905,817\n",
      "Non-trainable params: 0\n",
      "_________________________________________________________________\n"
     ]
    }
   ],
   "source": [
    "GRU_model.summary()"
   ]
  },
  {
   "cell_type": "code",
   "execution_count": 54,
   "id": "b36df1dc",
   "metadata": {
    "execution": {
     "iopub.execute_input": "2023-06-21T13:54:06.148712Z",
     "iopub.status.busy": "2023-06-21T13:54:06.148331Z",
     "iopub.status.idle": "2023-06-21T14:22:30.738572Z",
     "shell.execute_reply": "2023-06-21T14:22:30.737236Z"
    },
    "papermill": {
     "duration": 1705.721169,
     "end_time": "2023-06-21T14:22:30.741451",
     "exception": false,
     "start_time": "2023-06-21T13:54:05.020282",
     "status": "completed"
    },
    "tags": []
   },
   "outputs": [
    {
     "name": "stdout",
     "output_type": "stream",
     "text": [
      "Epoch 1/10\n",
      "408/408 [==============================] - 171s 412ms/step - loss: 0.2172 - acc: 0.9598 - val_loss: 0.0346 - val_acc: 0.9887\n",
      "Epoch 2/10\n",
      "408/408 [==============================] - 168s 412ms/step - loss: 0.0271 - acc: 0.9905 - val_loss: 0.0268 - val_acc: 0.9903\n",
      "Epoch 3/10\n",
      "408/408 [==============================] - 170s 418ms/step - loss: 0.0206 - acc: 0.9924 - val_loss: 0.0247 - val_acc: 0.9911\n",
      "Epoch 4/10\n",
      "408/408 [==============================] - 171s 418ms/step - loss: 0.0178 - acc: 0.9934 - val_loss: 0.0238 - val_acc: 0.9913\n",
      "Epoch 5/10\n",
      "408/408 [==============================] - 173s 423ms/step - loss: 0.0161 - acc: 0.9940 - val_loss: 0.0236 - val_acc: 0.9915\n",
      "Epoch 6/10\n",
      "408/408 [==============================] - 168s 412ms/step - loss: 0.0148 - acc: 0.9945 - val_loss: 0.0235 - val_acc: 0.9916\n",
      "Epoch 7/10\n",
      "408/408 [==============================] - 168s 411ms/step - loss: 0.0136 - acc: 0.9949 - val_loss: 0.0237 - val_acc: 0.9917\n",
      "Epoch 8/10\n",
      "408/408 [==============================] - 169s 414ms/step - loss: 0.0126 - acc: 0.9953 - val_loss: 0.0242 - val_acc: 0.9917\n",
      "Epoch 9/10\n",
      "408/408 [==============================] - 167s 410ms/step - loss: 0.0116 - acc: 0.9957 - val_loss: 0.0247 - val_acc: 0.9916\n",
      "Epoch 10/10\n",
      "408/408 [==============================] - 168s 411ms/step - loss: 0.0105 - acc: 0.9962 - val_loss: 0.0255 - val_acc: 0.9916\n"
     ]
    }
   ],
   "source": [
    "GRU_training = GRU_model.fit(X_train, Y_train, batch_size=128, epochs=10, validation_data=(X_validation, Y_validation))"
   ]
  },
  {
   "cell_type": "code",
   "execution_count": 55,
   "id": "0f8522a3",
   "metadata": {
    "execution": {
     "iopub.execute_input": "2023-06-21T14:22:33.421014Z",
     "iopub.status.busy": "2023-06-21T14:22:33.420555Z",
     "iopub.status.idle": "2023-06-21T14:22:33.681928Z",
     "shell.execute_reply": "2023-06-21T14:22:33.680604Z"
    },
    "papermill": {
     "duration": 1.660009,
     "end_time": "2023-06-21T14:22:33.684288",
     "exception": false,
     "start_time": "2023-06-21T14:22:32.024279",
     "status": "completed"
    },
    "tags": []
   },
   "outputs": [
    {
     "data": {
      "image/png": "[encoded data removed]",
      "text/plain": [
       "<Figure size 640x480 with 1 Axes>"
      ]
     },
     "metadata": {},
     "output_type": "display_data"
    }
   ],
   "source": [
    "# visualise training history\n",
    "plt.plot(GRU_training.history['acc'])\n",
    "plt.plot(GRU_training.history['val_acc'])\n",
    "plt.title('model accuracy')\n",
    "plt.ylabel('accuracy')\n",
    "plt.xlabel('epoch')\n",
    "plt.legend(['train', 'test'], loc=\"lower right\")\n",
    "plt.show()"
   ]
  },
  {
   "cell_type": "markdown",
   "id": "764a41e1",
   "metadata": {
    "papermill": {
     "duration": 1.392146,
     "end_time": "2023-06-21T14:22:36.367238",
     "exception": false,
     "start_time": "2023-06-21T14:22:34.975092",
     "status": "completed"
    },
    "tags": []
   },
   "source": [
    "### The time taken by an LSTM is greater than a GRU and an RNN. This was expected since the parameters in an LSTM and GRU are 4x and 3x of a normal RNN"
   ]
  },
  {
   "cell_type": "markdown",
   "id": "96da28e6",
   "metadata": {
    "papermill": {
     "duration": 1.294907,
     "end_time": "2023-06-21T14:22:39.069507",
     "exception": false,
     "start_time": "2023-06-21T14:22:37.774600",
     "status": "completed"
    },
    "tags": []
   },
   "source": [
    "# 4. Bidirectional LSTM Model"
   ]
  },
  {
   "cell_type": "code",
   "execution_count": 56,
   "id": "f427a6ad",
   "metadata": {
    "execution": {
     "iopub.execute_input": "2023-06-21T14:22:41.855818Z",
     "iopub.status.busy": "2023-06-21T14:22:41.855411Z",
     "iopub.status.idle": "2023-06-21T14:22:42.736896Z",
     "shell.execute_reply": "2023-06-21T14:22:42.735781Z"
    },
    "papermill": {
     "duration": 2.271031,
     "end_time": "2023-06-21T14:22:42.739595",
     "exception": false,
     "start_time": "2023-06-21T14:22:40.468564",
     "status": "completed"
    },
    "tags": []
   },
   "outputs": [],
   "source": [
    "# create architecture\n",
    "\n",
    "bidirect_model = Sequential()\n",
    "\n",
    "bidirect_model.add(Embedding(input_dim     =  VOCABULARY_SIZE,         # vocabulary size - number of unique words in data\n",
    "                        output_dim    =  EMBEDDING_SIZE,          # length of vector with which each word is represented\n",
    "                        input_length  =  MAX_SEQ_LENGTH,          # length of input sequence\n",
    "                        weights       = [embedding_weights],      # word embedding matrix\n",
    "                        trainable     =  True                    # True - update the embeddings\n",
    "))\n",
    "\n",
    "# add an RNN layer which contains 64 RNN cells\n",
    "bidirect_model.add(Bidirectional(LSTM(64, return_sequences=True  # True - return whole sequence; False - return single output of the end of the sequence\n",
    ")))\n",
    "\n",
    "# add time distributed (output at each sequence) layer\n",
    "bidirect_model.add(TimeDistributed(Dense(NUM_CLASSES, activation='softmax')))"
   ]
  },
  {
   "cell_type": "code",
   "execution_count": 57,
   "id": "73c93985",
   "metadata": {
    "execution": {
     "iopub.execute_input": "2023-06-21T14:22:45.436644Z",
     "iopub.status.busy": "2023-06-21T14:22:45.435571Z",
     "iopub.status.idle": "2023-06-21T14:22:45.449293Z",
     "shell.execute_reply": "2023-06-21T14:22:45.448395Z"
    },
    "papermill": {
     "duration": 1.414716,
     "end_time": "2023-06-21T14:22:45.451814",
     "exception": false,
     "start_time": "2023-06-21T14:22:44.037098",
     "status": "completed"
    },
    "tags": []
   },
   "outputs": [],
   "source": [
    "bidirect_model.compile(loss      =  'categorical_crossentropy',\n",
    "                  optimizer =  'adam',\n",
    "                  metrics   =  ['acc'])"
   ]
  },
  {
   "cell_type": "code",
   "execution_count": 58,
   "id": "a3cde8bd",
   "metadata": {
    "execution": {
     "iopub.execute_input": "2023-06-21T14:22:48.139539Z",
     "iopub.status.busy": "2023-06-21T14:22:48.138783Z",
     "iopub.status.idle": "2023-06-21T14:22:48.160218Z",
     "shell.execute_reply": "2023-06-21T14:22:48.159131Z"
    },
    "papermill": {
     "duration": 1.316368,
     "end_time": "2023-06-21T14:22:48.162168",
     "exception": false,
     "start_time": "2023-06-21T14:22:46.845800",
     "status": "completed"
    },
    "tags": []
   },
   "outputs": [
    {
     "name": "stdout",
     "output_type": "stream",
     "text": [
      "Model: \"sequential_5\"\n",
      "_________________________________________________________________\n",
      " Layer (type)                Output Shape              Param #   \n",
      "=================================================================\n",
      " embedding_5 (Embedding)     (None, 100, 300)          17834700  \n",
      "                                                                 \n",
      " bidirectional (Bidirectiona  (None, 100, 128)         186880    \n",
      " l)                                                              \n",
      "                                                                 \n",
      " time_distributed_5 (TimeDis  (None, 100, 13)          1677      \n",
      " tributed)                                                       \n",
      "                                                                 \n",
      "=================================================================\n",
      "Total params: 18,023,257\n",
      "Trainable params: 18,023,257\n",
      "Non-trainable params: 0\n",
      "_________________________________________________________________\n"
     ]
    }
   ],
   "source": [
    "# check summary of model\n",
    "bidirect_model.summary()"
   ]
  },
  {
   "cell_type": "code",
   "execution_count": 59,
   "id": "43ff7719",
   "metadata": {
    "execution": {
     "iopub.execute_input": "2023-06-21T14:22:50.881627Z",
     "iopub.status.busy": "2023-06-21T14:22:50.881230Z",
     "iopub.status.idle": "2023-06-21T15:03:19.148427Z",
     "shell.execute_reply": "2023-06-21T15:03:19.147288Z"
    },
    "papermill": {
     "duration": 2429.552001,
     "end_time": "2023-06-21T15:03:19.151356",
     "exception": false,
     "start_time": "2023-06-21T14:22:49.599355",
     "status": "completed"
    },
    "tags": []
   },
   "outputs": [
    {
     "name": "stdout",
     "output_type": "stream",
     "text": [
      "Epoch 1/10\n",
      "408/408 [==============================] - 246s 588ms/step - loss: 0.2360 - acc: 0.9444 - val_loss: 0.0329 - val_acc: 0.9896\n",
      "Epoch 2/10\n",
      "408/408 [==============================] - 238s 584ms/step - loss: 0.0242 - acc: 0.9921 - val_loss: 0.0224 - val_acc: 0.9925\n",
      "Epoch 3/10\n",
      "408/408 [==============================] - 239s 587ms/step - loss: 0.0164 - acc: 0.9945 - val_loss: 0.0197 - val_acc: 0.9933\n",
      "Epoch 4/10\n",
      "408/408 [==============================] - 237s 582ms/step - loss: 0.0129 - acc: 0.9956 - val_loss: 0.0185 - val_acc: 0.9938\n",
      "Epoch 5/10\n",
      "408/408 [==============================] - 236s 578ms/step - loss: 0.0104 - acc: 0.9965 - val_loss: 0.0181 - val_acc: 0.9940\n",
      "Epoch 6/10\n",
      "408/408 [==============================] - 235s 576ms/step - loss: 0.0083 - acc: 0.9973 - val_loss: 0.0181 - val_acc: 0.9942\n",
      "Epoch 7/10\n",
      "408/408 [==============================] - 238s 584ms/step - loss: 0.0066 - acc: 0.9979 - val_loss: 0.0188 - val_acc: 0.9941\n",
      "Epoch 8/10\n",
      "408/408 [==============================] - 239s 587ms/step - loss: 0.0052 - acc: 0.9984 - val_loss: 0.0198 - val_acc: 0.9940\n",
      "Epoch 9/10\n",
      "408/408 [==============================] - 237s 581ms/step - loss: 0.0040 - acc: 0.9988 - val_loss: 0.0211 - val_acc: 0.9939\n",
      "Epoch 10/10\n",
      "408/408 [==============================] - 238s 585ms/step - loss: 0.0031 - acc: 0.9991 - val_loss: 0.0224 - val_acc: 0.9938\n"
     ]
    }
   ],
   "source": [
    "bidirect_training = bidirect_model.fit(X_train, Y_train, batch_size=128, epochs=10, validation_data=(X_validation, Y_validation))"
   ]
  },
  {
   "cell_type": "code",
   "execution_count": 60,
   "id": "b3c8e36c",
   "metadata": {
    "execution": {
     "iopub.execute_input": "2023-06-21T15:03:22.362291Z",
     "iopub.status.busy": "2023-06-21T15:03:22.361767Z",
     "iopub.status.idle": "2023-06-21T15:03:22.605427Z",
     "shell.execute_reply": "2023-06-21T15:03:22.604208Z"
    },
    "papermill": {
     "duration": 1.906054,
     "end_time": "2023-06-21T15:03:22.608681",
     "exception": false,
     "start_time": "2023-06-21T15:03:20.702627",
     "status": "completed"
    },
    "tags": []
   },
   "outputs": [
    {
     "data": {
      "image/png": "[encoded data removed]",
      "text/plain": [
       "<Figure size 640x480 with 1 Axes>"
      ]
     },
     "metadata": {},
     "output_type": "display_data"
    }
   ],
   "source": [
    "# visualise training history\n",
    "plt.plot(bidirect_training.history['acc'])\n",
    "plt.plot(bidirect_training.history['val_acc'])\n",
    "plt.title('model accuracy')\n",
    "plt.ylabel('accuracy')\n",
    "plt.xlabel('epoch')\n",
    "plt.legend(['train', 'test'], loc=\"lower right\")\n",
    "plt.show()"
   ]
  },
  {
   "cell_type": "markdown",
   "id": "cf7d9c57",
   "metadata": {
    "papermill": {
     "duration": 1.674884,
     "end_time": "2023-06-21T15:03:25.943145",
     "exception": false,
     "start_time": "2023-06-21T15:03:24.268261",
     "status": "completed"
    },
    "tags": []
   },
   "source": [
    "# Model Evaluation"
   ]
  },
  {
   "cell_type": "code",
   "execution_count": 61,
   "id": "52838d6b",
   "metadata": {
    "execution": {
     "iopub.execute_input": "2023-06-21T15:03:29.219258Z",
     "iopub.status.busy": "2023-06-21T15:03:29.218808Z",
     "iopub.status.idle": "2023-06-21T15:03:33.668720Z",
     "shell.execute_reply": "2023-06-21T15:03:33.667436Z"
    },
    "papermill": {
     "duration": 6.056398,
     "end_time": "2023-06-21T15:03:33.671202",
     "exception": false,
     "start_time": "2023-06-21T15:03:27.614804",
     "status": "completed"
    },
    "tags": []
   },
   "outputs": [
    {
     "name": "stdout",
     "output_type": "stream",
     "text": [
      "339/339 [==============================] - 4s 13ms/step - loss: 0.0311 - acc: 0.9906\n",
      "Loss: 0.03106437809765339, \n",
      " Accuracy: 0.990574300289154\n"
     ]
    }
   ],
   "source": [
    "#rnn_model\n",
    "loss, accuracy = rnn_model.evaluate(X_test, Y_test, verbose=1)\n",
    "print('Loss: {0}, \\n Accuracy: {1}'.format(loss, accuracy))"
   ]
  },
  {
   "cell_type": "code",
   "execution_count": 62,
   "id": "4e2cc8aa",
   "metadata": {
    "execution": {
     "iopub.execute_input": "2023-06-21T15:03:37.015021Z",
     "iopub.status.busy": "2023-06-21T15:03:37.014603Z",
     "iopub.status.idle": "2023-06-21T15:03:47.388169Z",
     "shell.execute_reply": "2023-06-21T15:03:47.386875Z"
    },
    "papermill": {
     "duration": 12.04404,
     "end_time": "2023-06-21T15:03:47.391047",
     "exception": false,
     "start_time": "2023-06-21T15:03:35.347007",
     "status": "completed"
    },
    "tags": []
   },
   "outputs": [
    {
     "name": "stdout",
     "output_type": "stream",
     "text": [
      "339/339 [==============================] - 10s 28ms/step - loss: 0.0251 - acc: 0.9917\n",
      "Loss: 0.025063537061214447, \n",
      " Accuracy: 0.9917108416557312\n"
     ]
    }
   ],
   "source": [
    "#lstm_model\n",
    "loss, accuracy = lstm_model.evaluate(X_test, Y_test, verbose=1)\n",
    "print('Loss: {0}, \\n Accuracy: {1}'.format(loss, accuracy))"
   ]
  },
  {
   "cell_type": "code",
   "execution_count": 63,
   "id": "2fb6e8db",
   "metadata": {
    "execution": {
     "iopub.execute_input": "2023-06-21T15:03:50.647989Z",
     "iopub.status.busy": "2023-06-21T15:03:50.647507Z",
     "iopub.status.idle": "2023-06-21T15:04:01.007258Z",
     "shell.execute_reply": "2023-06-21T15:04:01.006001Z"
    },
    "papermill": {
     "duration": 11.921226,
     "end_time": "2023-06-21T15:04:01.009618",
     "exception": false,
     "start_time": "2023-06-21T15:03:49.088392",
     "status": "completed"
    },
    "tags": []
   },
   "outputs": [
    {
     "name": "stdout",
     "output_type": "stream",
     "text": [
      "339/339 [==============================] - 8s 23ms/step - loss: 0.0253 - acc: 0.9916\n",
      "Loss: 0.025281056761741638, \n",
      " Accuracy: 0.9915972948074341\n"
     ]
    }
   ],
   "source": [
    "#GRU_model\n",
    "loss, accuracy = GRU_model.evaluate(X_test, Y_test, verbose=1)\n",
    "print('Loss: {0}, \\n Accuracy: {1}'.format(loss, accuracy))"
   ]
  },
  {
   "cell_type": "code",
   "execution_count": 64,
   "id": "d1ae21e2",
   "metadata": {
    "execution": {
     "iopub.execute_input": "2023-06-21T15:04:04.399350Z",
     "iopub.status.busy": "2023-06-21T15:04:04.398950Z",
     "iopub.status.idle": "2023-06-21T15:04:25.001596Z",
     "shell.execute_reply": "2023-06-21T15:04:25.000466Z"
    },
    "papermill": {
     "duration": 22.300843,
     "end_time": "2023-06-21T15:04:25.003897",
     "exception": false,
     "start_time": "2023-06-21T15:04:02.703054",
     "status": "completed"
    },
    "tags": []
   },
   "outputs": [
    {
     "name": "stdout",
     "output_type": "stream",
     "text": [
      "339/339 [==============================] - 14s 41ms/step - loss: 0.0227 - acc: 0.9937\n",
      "Loss: 0.022708959877490997, \n",
      " Accuracy: 0.9937143325805664\n"
     ]
    }
   ],
   "source": [
    "#Bidirect_model\n",
    "loss, accuracy = bidirect_model.evaluate(X_test, Y_test, verbose=1)\n",
    "print('Loss: {0}, \\n Accuracy: {1}'.format(loss, accuracy))"
   ]
  },
  {
   "cell_type": "code",
   "execution_count": null,
   "id": "f6134a4c",
   "metadata": {
    "papermill": {
     "duration": 1.701708,
     "end_time": "2023-06-21T15:04:28.286920",
     "exception": false,
     "start_time": "2023-06-21T15:04:26.585212",
     "status": "completed"
    },
    "tags": []
   },
   "outputs": [],
   "source": []
  }
 ],
 "metadata": {
  "kernelspec": {
   "display_name": "Python 3",
   "language": "python",
   "name": "python3"
  },
  "language_info": {
   "codemirror_mode": {
    "name": "ipython",
    "version": 3
   },
   "file_extension": ".py",
   "mimetype": "text/x-python",
   "name": "python",
   "nbconvert_exporter": "python",
   "pygments_lexer": "ipython3",
   "version": "3.10.10"
  },
  "papermill": {
   "default_parameters": {},
   "duration": 9463.938196,
   "end_time": "2023-06-21T15:04:32.841392",
   "environment_variables": {},
   "exception": null,
   "input_path": "__notebook__.ipynb",
   "output_path": "__notebook__.ipynb",
   "parameters": {},
   "start_time": "2023-06-21T12:26:48.903196",
   "version": "2.4.0"
  }
 },
 "nbformat": 4,
 "nbformat_minor": 5
}
